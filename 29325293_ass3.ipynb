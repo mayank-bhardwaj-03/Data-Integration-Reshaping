{
 "cells": [
  {
   "cell_type": "markdown",
   "metadata": {},
   "source": [
    " # FIT5196 Assessment 3 (Data integration)\n",
    "#### Student Name: Mayank Bhardwaj\n",
    "#### Student ID: 29325293\n",
    "\n",
    "Date:3/10/2018\n",
    "\n",
    "Environment: Python 3.6.4 and Jupyter notebook\n",
    "Libraries used: \n",
    "* pandas\n",
    "* numpy\n",
    "* datetime\n",
    "* monthrange\n",
    "* matplotlib.pyplot\n",
    "* shapefile \n",
    "* xml.etree.ElementTree\n",
    "* math functions\n",
    "* from matplotlib.patches import Polygon\n",
    "* from matplotlib.collections import PatchCollection\n",
    "\n",
    "## 1. Introduction\n",
    "We have given the 7 dataset in the different formats of housing data information \n",
    "of victoria australia.\n",
    "This has been divided into 3 task as given below:\n",
    "* 1.Task 1: Data Integration\n",
    "* 2.Task 2: data reshaping\n",
    "* 3.Task 3: Documentation"
   ]
  },
  {
   "cell_type": "code",
   "execution_count": 1,
   "metadata": {},
   "outputs": [],
   "source": [
    "import pandas as pd\n",
    "import math\n",
    "from math import sin, cos, sqrt, atan2,radians\n",
    "from datetime import datetime\n",
    "import xml.etree.ElementTree as ET\n",
    "import matplotlib \n",
    "%matplotlib inline\n",
    "from shapely.geometry import Point\n",
    "from shapely.geometry import shape\n",
    "import shapefile\n",
    "import matplotlib.pyplot as plt\n",
    "import matplotlib.patches as patches\n",
    "from matplotlib.patches import Polygon\n",
    "from matplotlib.collections import PatchCollection\n",
    "import statsmodels.formula.api as smf\n",
    "import numpy as np\n",
    "from statsmodels.graphics.gofplots import ProbPlot\n",
    "from sklearn import preprocessing\n",
    "from math import pow\n",
    "from math import log"
   ]
  },
  {
   "cell_type": "markdown",
   "metadata": {},
   "source": [
    "## Task 1: Data Integration\n",
    "In this task, you are required to integrate these 7 datasets into one with the given schema:"
   ]
  },
  {
   "cell_type": "markdown",
   "metadata": {},
   "source": [
    "Read the realestate.json and realestate.xml file in the dataframe."
   ]
  },
  {
   "cell_type": "code",
   "execution_count": 2,
   "metadata": {},
   "outputs": [
    {
     "data": {
      "text/html": [
       "<div>\n",
       "<style scoped>\n",
       "    .dataframe tbody tr th:only-of-type {\n",
       "        vertical-align: middle;\n",
       "    }\n",
       "\n",
       "    .dataframe tbody tr th {\n",
       "        vertical-align: top;\n",
       "    }\n",
       "\n",
       "    .dataframe thead th {\n",
       "        text-align: right;\n",
       "    }\n",
       "</style>\n",
       "<table border=\"1\" class=\"dataframe\">\n",
       "  <thead>\n",
       "    <tr style=\"text-align: right;\">\n",
       "      <th></th>\n",
       "      <th>addr_street</th>\n",
       "      <th>bathrooms</th>\n",
       "      <th>bedrooms</th>\n",
       "      <th>lat</th>\n",
       "      <th>lng</th>\n",
       "      <th>parking_space</th>\n",
       "      <th>price</th>\n",
       "      <th>property_id</th>\n",
       "      <th>property_type</th>\n",
       "      <th>year</th>\n",
       "    </tr>\n",
       "  </thead>\n",
       "  <tbody>\n",
       "    <tr>\n",
       "      <th>0</th>\n",
       "      <td>12 Villiers Street</td>\n",
       "      <td>1.0</td>\n",
       "      <td>4.0</td>\n",
       "      <td>-37.880403</td>\n",
       "      <td>145.005270</td>\n",
       "      <td>2.0</td>\n",
       "      <td>9990000.0</td>\n",
       "      <td>85242.0</td>\n",
       "      <td>house</td>\n",
       "      <td>2012.0</td>\n",
       "    </tr>\n",
       "    <tr>\n",
       "      <th>1</th>\n",
       "      <td>2/13 Gladys Grove</td>\n",
       "      <td>1.0</td>\n",
       "      <td>2.0</td>\n",
       "      <td>-37.791713</td>\n",
       "      <td>145.266711</td>\n",
       "      <td>2.0</td>\n",
       "      <td>3483000.0</td>\n",
       "      <td>63841.0</td>\n",
       "      <td>house</td>\n",
       "      <td>2014.0</td>\n",
       "    </tr>\n",
       "    <tr>\n",
       "      <th>2</th>\n",
       "      <td>74 Heads Road</td>\n",
       "      <td>2.0</td>\n",
       "      <td>4.0</td>\n",
       "      <td>-37.794760</td>\n",
       "      <td>145.207290</td>\n",
       "      <td>3.0</td>\n",
       "      <td>13580000.0</td>\n",
       "      <td>51993.0</td>\n",
       "      <td>house</td>\n",
       "      <td>2015.0</td>\n",
       "    </tr>\n",
       "    <tr>\n",
       "      <th>3</th>\n",
       "      <td>2/14 St James Avenue</td>\n",
       "      <td>1.0</td>\n",
       "      <td>2.0</td>\n",
       "      <td>-37.954281</td>\n",
       "      <td>145.149726</td>\n",
       "      <td>1.0</td>\n",
       "      <td>5100000.0</td>\n",
       "      <td>78786.0</td>\n",
       "      <td>house</td>\n",
       "      <td>2010.0</td>\n",
       "    </tr>\n",
       "    <tr>\n",
       "      <th>4</th>\n",
       "      <td>8 Arden Road</td>\n",
       "      <td>2.0</td>\n",
       "      <td>3.0</td>\n",
       "      <td>-37.585955</td>\n",
       "      <td>144.902397</td>\n",
       "      <td>1.0</td>\n",
       "      <td>2997000.0</td>\n",
       "      <td>27726.0</td>\n",
       "      <td>house</td>\n",
       "      <td>2014.0</td>\n",
       "    </tr>\n",
       "  </tbody>\n",
       "</table>\n",
       "</div>"
      ],
      "text/plain": [
       "            addr_street  bathrooms  bedrooms        lat         lng  \\\n",
       "0    12 Villiers Street        1.0       4.0 -37.880403  145.005270   \n",
       "1     2/13 Gladys Grove        1.0       2.0 -37.791713  145.266711   \n",
       "2         74 Heads Road        2.0       4.0 -37.794760  145.207290   \n",
       "3  2/14 St James Avenue        1.0       2.0 -37.954281  145.149726   \n",
       "4          8 Arden Road        2.0       3.0 -37.585955  144.902397   \n",
       "\n",
       "   parking_space       price  property_id property_type    year  \n",
       "0            2.0   9990000.0      85242.0         house  2012.0  \n",
       "1            2.0   3483000.0      63841.0         house  2014.0  \n",
       "2            3.0  13580000.0      51993.0         house  2015.0  \n",
       "3            1.0   5100000.0      78786.0         house  2010.0  \n",
       "4            1.0   2997000.0      27726.0         house  2014.0  "
      ]
     },
     "execution_count": 2,
     "metadata": {},
     "output_type": "execute_result"
    }
   ],
   "source": [
    "estate_df = pd.read_json('real_state.json')\n",
    "estate_df.head()"
   ]
  },
  {
   "cell_type": "code",
   "execution_count": 3,
   "metadata": {},
   "outputs": [],
   "source": [
    "estate_xml = ET.parse('real_state.xml')\n",
    "estate_root = estate_xml.getroot()\n",
    "list1 = []\n",
    "for x, child in enumerate(estate_root):\n",
    "    list_record = {}\n",
    "    \n",
    "    for subchild in child:\n",
    "        list_record[subchild.tag] = subchild.text\n",
    "    list1.append(list_record)\n",
    "estate_xml_df = pd.DataFrame(list1)"
   ]
  },
  {
   "cell_type": "code",
   "execution_count": 4,
   "metadata": {},
   "outputs": [
    {
     "data": {
      "text/html": [
       "<div>\n",
       "<style scoped>\n",
       "    .dataframe tbody tr th:only-of-type {\n",
       "        vertical-align: middle;\n",
       "    }\n",
       "\n",
       "    .dataframe tbody tr th {\n",
       "        vertical-align: top;\n",
       "    }\n",
       "\n",
       "    .dataframe thead th {\n",
       "        text-align: right;\n",
       "    }\n",
       "</style>\n",
       "<table border=\"1\" class=\"dataframe\">\n",
       "  <thead>\n",
       "    <tr style=\"text-align: right;\">\n",
       "      <th></th>\n",
       "      <th>0</th>\n",
       "      <th>1</th>\n",
       "      <th>2</th>\n",
       "      <th>3</th>\n",
       "      <th>4</th>\n",
       "      <th>5</th>\n",
       "      <th>6</th>\n",
       "      <th>7</th>\n",
       "      <th>8</th>\n",
       "      <th>9</th>\n",
       "    </tr>\n",
       "  </thead>\n",
       "  <tbody>\n",
       "    <tr>\n",
       "      <th>0</th>\n",
       "      <td>1.0</td>\n",
       "      <td>3944000.0</td>\n",
       "      <td>2.0</td>\n",
       "      <td>0.0</td>\n",
       "      <td>2008.0</td>\n",
       "      <td>-37.79080963</td>\n",
       "      <td>144.9309692</td>\n",
       "      <td>house</td>\n",
       "      <td>12 Mulgrave Street</td>\n",
       "      <td>10001.0</td>\n",
       "    </tr>\n",
       "    <tr>\n",
       "      <th>1</th>\n",
       "      <td>1.0</td>\n",
       "      <td>9690000.0</td>\n",
       "      <td>2.0</td>\n",
       "      <td>1.0</td>\n",
       "      <td>2012.0</td>\n",
       "      <td>-37.796301</td>\n",
       "      <td>144.902524</td>\n",
       "      <td>house</td>\n",
       "      <td>42 Lynch Street</td>\n",
       "      <td>1019.0</td>\n",
       "    </tr>\n",
       "    <tr>\n",
       "      <th>2</th>\n",
       "      <td>1.0</td>\n",
       "      <td>11843000.0</td>\n",
       "      <td>2.0</td>\n",
       "      <td>1.0</td>\n",
       "      <td>2013.0</td>\n",
       "      <td>-37.796644</td>\n",
       "      <td>144.930014</td>\n",
       "      <td>house</td>\n",
       "      <td>20 Ormond Street</td>\n",
       "      <td>10236.0</td>\n",
       "    </tr>\n",
       "    <tr>\n",
       "      <th>3</th>\n",
       "      <td>2.0</td>\n",
       "      <td>12155000.0</td>\n",
       "      <td>3.0</td>\n",
       "      <td>2.0</td>\n",
       "      <td>2012.0</td>\n",
       "      <td>-37.792123</td>\n",
       "      <td>144.92208</td>\n",
       "      <td>house</td>\n",
       "      <td>22 Gardner Lane</td>\n",
       "      <td>10263.0</td>\n",
       "    </tr>\n",
       "    <tr>\n",
       "      <th>4</th>\n",
       "      <td>3.0</td>\n",
       "      <td>9030000.0</td>\n",
       "      <td>3.0</td>\n",
       "      <td>1.0</td>\n",
       "      <td>2009.0</td>\n",
       "      <td>-37.79491425</td>\n",
       "      <td>144.917038</td>\n",
       "      <td>house</td>\n",
       "      <td>239 Stockmans Way</td>\n",
       "      <td>10286.0</td>\n",
       "    </tr>\n",
       "  </tbody>\n",
       "</table>\n",
       "</div>"
      ],
      "text/plain": [
       "     0           1    2    3       4             5            6      7  \\\n",
       "0  1.0   3944000.0  2.0  0.0  2008.0  -37.79080963  144.9309692  house   \n",
       "1  1.0   9690000.0  2.0  1.0  2012.0    -37.796301   144.902524  house   \n",
       "2  1.0  11843000.0  2.0  1.0  2013.0    -37.796644   144.930014  house   \n",
       "3  2.0  12155000.0  3.0  2.0  2012.0    -37.792123    144.92208  house   \n",
       "4  3.0   9030000.0  3.0  1.0  2009.0  -37.79491425   144.917038  house   \n",
       "\n",
       "                    8        9  \n",
       "0  12 Mulgrave Street  10001.0  \n",
       "1     42 Lynch Street   1019.0  \n",
       "2    20 Ormond Street  10236.0  \n",
       "3     22 Gardner Lane  10263.0  \n",
       "4   239 Stockmans Way  10286.0  "
      ]
     },
     "execution_count": 4,
     "metadata": {},
     "output_type": "execute_result"
    }
   ],
   "source": [
    "estate_xml_df = estate_xml_df.T\n",
    "estate_xml_df = estate_xml_df.reset_index()\n",
    "estate_xml_df = estate_xml_df.drop('index', axis = 1)\n",
    "estate_xml_df.head()"
   ]
  },
  {
   "cell_type": "markdown",
   "metadata": {},
   "source": [
    "* Rename the column withthe suitable column name as given in the XML file."
   ]
  },
  {
   "cell_type": "code",
   "execution_count": 5,
   "metadata": {},
   "outputs": [
    {
     "data": {
      "text/html": [
       "<div>\n",
       "<style scoped>\n",
       "    .dataframe tbody tr th:only-of-type {\n",
       "        vertical-align: middle;\n",
       "    }\n",
       "\n",
       "    .dataframe tbody tr th {\n",
       "        vertical-align: top;\n",
       "    }\n",
       "\n",
       "    .dataframe thead th {\n",
       "        text-align: right;\n",
       "    }\n",
       "</style>\n",
       "<table border=\"1\" class=\"dataframe\">\n",
       "  <thead>\n",
       "    <tr style=\"text-align: right;\">\n",
       "      <th></th>\n",
       "      <th>bathrooms</th>\n",
       "      <th>price</th>\n",
       "      <th>bedrooms</th>\n",
       "      <th>parking_space</th>\n",
       "      <th>year</th>\n",
       "      <th>lat</th>\n",
       "      <th>lng</th>\n",
       "      <th>property_type</th>\n",
       "      <th>addr_street</th>\n",
       "      <th>property_id</th>\n",
       "    </tr>\n",
       "  </thead>\n",
       "  <tbody>\n",
       "    <tr>\n",
       "      <th>0</th>\n",
       "      <td>1.0</td>\n",
       "      <td>3944000.0</td>\n",
       "      <td>2.0</td>\n",
       "      <td>0.0</td>\n",
       "      <td>2008.0</td>\n",
       "      <td>-37.79080963</td>\n",
       "      <td>144.9309692</td>\n",
       "      <td>house</td>\n",
       "      <td>12 Mulgrave Street</td>\n",
       "      <td>10001.0</td>\n",
       "    </tr>\n",
       "    <tr>\n",
       "      <th>1</th>\n",
       "      <td>1.0</td>\n",
       "      <td>9690000.0</td>\n",
       "      <td>2.0</td>\n",
       "      <td>1.0</td>\n",
       "      <td>2012.0</td>\n",
       "      <td>-37.796301</td>\n",
       "      <td>144.902524</td>\n",
       "      <td>house</td>\n",
       "      <td>42 Lynch Street</td>\n",
       "      <td>1019.0</td>\n",
       "    </tr>\n",
       "    <tr>\n",
       "      <th>2</th>\n",
       "      <td>1.0</td>\n",
       "      <td>11843000.0</td>\n",
       "      <td>2.0</td>\n",
       "      <td>1.0</td>\n",
       "      <td>2013.0</td>\n",
       "      <td>-37.796644</td>\n",
       "      <td>144.930014</td>\n",
       "      <td>house</td>\n",
       "      <td>20 Ormond Street</td>\n",
       "      <td>10236.0</td>\n",
       "    </tr>\n",
       "    <tr>\n",
       "      <th>3</th>\n",
       "      <td>2.0</td>\n",
       "      <td>12155000.0</td>\n",
       "      <td>3.0</td>\n",
       "      <td>2.0</td>\n",
       "      <td>2012.0</td>\n",
       "      <td>-37.792123</td>\n",
       "      <td>144.92208</td>\n",
       "      <td>house</td>\n",
       "      <td>22 Gardner Lane</td>\n",
       "      <td>10263.0</td>\n",
       "    </tr>\n",
       "    <tr>\n",
       "      <th>4</th>\n",
       "      <td>3.0</td>\n",
       "      <td>9030000.0</td>\n",
       "      <td>3.0</td>\n",
       "      <td>1.0</td>\n",
       "      <td>2009.0</td>\n",
       "      <td>-37.79491425</td>\n",
       "      <td>144.917038</td>\n",
       "      <td>house</td>\n",
       "      <td>239 Stockmans Way</td>\n",
       "      <td>10286.0</td>\n",
       "    </tr>\n",
       "  </tbody>\n",
       "</table>\n",
       "</div>"
      ],
      "text/plain": [
       "  bathrooms       price bedrooms parking_space    year           lat  \\\n",
       "0       1.0   3944000.0      2.0           0.0  2008.0  -37.79080963   \n",
       "1       1.0   9690000.0      2.0           1.0  2012.0    -37.796301   \n",
       "2       1.0  11843000.0      2.0           1.0  2013.0    -37.796644   \n",
       "3       2.0  12155000.0      3.0           2.0  2012.0    -37.792123   \n",
       "4       3.0   9030000.0      3.0           1.0  2009.0  -37.79491425   \n",
       "\n",
       "           lng property_type         addr_street property_id  \n",
       "0  144.9309692         house  12 Mulgrave Street     10001.0  \n",
       "1   144.902524         house     42 Lynch Street      1019.0  \n",
       "2   144.930014         house    20 Ormond Street     10236.0  \n",
       "3    144.92208         house     22 Gardner Lane     10263.0  \n",
       "4   144.917038         house   239 Stockmans Way     10286.0  "
      ]
     },
     "execution_count": 5,
     "metadata": {},
     "output_type": "execute_result"
    }
   ],
   "source": [
    "estate_xml_df.columns = ['bathrooms', 'price', 'bedrooms', 'parking_space', 'year', 'lat', 'lng',\n",
    "                         'property_type', 'addr_street', 'property_id']\n",
    "estate_xml_df.head()"
   ]
  },
  {
   "cell_type": "code",
   "execution_count": 6,
   "metadata": {},
   "outputs": [
    {
     "data": {
      "text/html": [
       "<div>\n",
       "<style scoped>\n",
       "    .dataframe tbody tr th:only-of-type {\n",
       "        vertical-align: middle;\n",
       "    }\n",
       "\n",
       "    .dataframe tbody tr th {\n",
       "        vertical-align: top;\n",
       "    }\n",
       "\n",
       "    .dataframe thead th {\n",
       "        text-align: right;\n",
       "    }\n",
       "</style>\n",
       "<table border=\"1\" class=\"dataframe\">\n",
       "  <thead>\n",
       "    <tr style=\"text-align: right;\">\n",
       "      <th></th>\n",
       "      <th>bathrooms</th>\n",
       "      <th>price</th>\n",
       "      <th>bedrooms</th>\n",
       "      <th>parking_space</th>\n",
       "      <th>year</th>\n",
       "      <th>lat</th>\n",
       "      <th>lng</th>\n",
       "      <th>property_type</th>\n",
       "      <th>addr_street</th>\n",
       "      <th>property_id</th>\n",
       "    </tr>\n",
       "  </thead>\n",
       "  <tbody>\n",
       "    <tr>\n",
       "      <th>0</th>\n",
       "      <td>1.0</td>\n",
       "      <td>9990000.0</td>\n",
       "      <td>4.0</td>\n",
       "      <td>2.0</td>\n",
       "      <td>2012.0</td>\n",
       "      <td>-37.880403</td>\n",
       "      <td>145.005270</td>\n",
       "      <td>house</td>\n",
       "      <td>12 Villiers Street</td>\n",
       "      <td>85242.0</td>\n",
       "    </tr>\n",
       "    <tr>\n",
       "      <th>1</th>\n",
       "      <td>1.0</td>\n",
       "      <td>3483000.0</td>\n",
       "      <td>2.0</td>\n",
       "      <td>2.0</td>\n",
       "      <td>2014.0</td>\n",
       "      <td>-37.791713</td>\n",
       "      <td>145.266711</td>\n",
       "      <td>house</td>\n",
       "      <td>2/13 Gladys Grove</td>\n",
       "      <td>63841.0</td>\n",
       "    </tr>\n",
       "    <tr>\n",
       "      <th>2</th>\n",
       "      <td>2.0</td>\n",
       "      <td>13580000.0</td>\n",
       "      <td>4.0</td>\n",
       "      <td>3.0</td>\n",
       "      <td>2015.0</td>\n",
       "      <td>-37.794760</td>\n",
       "      <td>145.207290</td>\n",
       "      <td>house</td>\n",
       "      <td>74 Heads Road</td>\n",
       "      <td>51993.0</td>\n",
       "    </tr>\n",
       "    <tr>\n",
       "      <th>3</th>\n",
       "      <td>1.0</td>\n",
       "      <td>5100000.0</td>\n",
       "      <td>2.0</td>\n",
       "      <td>1.0</td>\n",
       "      <td>2010.0</td>\n",
       "      <td>-37.954281</td>\n",
       "      <td>145.149726</td>\n",
       "      <td>house</td>\n",
       "      <td>2/14 St James Avenue</td>\n",
       "      <td>78786.0</td>\n",
       "    </tr>\n",
       "    <tr>\n",
       "      <th>4</th>\n",
       "      <td>2.0</td>\n",
       "      <td>2997000.0</td>\n",
       "      <td>3.0</td>\n",
       "      <td>1.0</td>\n",
       "      <td>2014.0</td>\n",
       "      <td>-37.585955</td>\n",
       "      <td>144.902397</td>\n",
       "      <td>house</td>\n",
       "      <td>8 Arden Road</td>\n",
       "      <td>27726.0</td>\n",
       "    </tr>\n",
       "  </tbody>\n",
       "</table>\n",
       "</div>"
      ],
      "text/plain": [
       "   bathrooms       price  bedrooms  parking_space    year        lat  \\\n",
       "0        1.0   9990000.0       4.0            2.0  2012.0 -37.880403   \n",
       "1        1.0   3483000.0       2.0            2.0  2014.0 -37.791713   \n",
       "2        2.0  13580000.0       4.0            3.0  2015.0 -37.794760   \n",
       "3        1.0   5100000.0       2.0            1.0  2010.0 -37.954281   \n",
       "4        2.0   2997000.0       3.0            1.0  2014.0 -37.585955   \n",
       "\n",
       "          lng property_type           addr_street  property_id  \n",
       "0  145.005270         house    12 Villiers Street      85242.0  \n",
       "1  145.266711         house     2/13 Gladys Grove      63841.0  \n",
       "2  145.207290         house         74 Heads Road      51993.0  \n",
       "3  145.149726         house  2/14 St James Avenue      78786.0  \n",
       "4  144.902397         house          8 Arden Road      27726.0  "
      ]
     },
     "execution_count": 6,
     "metadata": {},
     "output_type": "execute_result"
    }
   ],
   "source": [
    "estate_df = estate_df[['bathrooms', 'price', 'bedrooms', 'parking_space', 'year', 'lat', 'lng',\n",
    "                       'property_type', 'addr_street', 'property_id']]\n",
    "estate_df.head()"
   ]
  },
  {
   "cell_type": "markdown",
   "metadata": {},
   "source": [
    "* Merge the both the json and xml file in the one dataframe."
   ]
  },
  {
   "cell_type": "code",
   "execution_count": 7,
   "metadata": {},
   "outputs": [],
   "source": [
    "estate_df_final = estate_xml_df.append(estate_df)\n"
   ]
  },
  {
   "cell_type": "code",
   "execution_count": 8,
   "metadata": {},
   "outputs": [],
   "source": [
    "# Removing the null values\n",
    "estate_df_final = estate_df_final[(pd.isna(estate_df_final.property_id)==False) & (estate_df_final.property_id !='nan')]\n",
    "\n",
    "estate_df_final[['bathrooms','bedrooms','lat','lng','parking_space','price','property_id','year']]= estate_df_final[['bathrooms','bedrooms','lat','lng','parking_space','price','property_id','year']].apply(pd.to_numeric)\n",
    "\n",
    "# Removing the duplicate values\n",
    "estate_df_final.drop_duplicates(keep='first',subset ='property_id',inplace=True)\n"
   ]
  },
  {
   "cell_type": "code",
   "execution_count": 9,
   "metadata": {},
   "outputs": [],
   "source": [
    "estate_df_final.reset_index(drop = True, inplace = True)"
   ]
  },
  {
   "cell_type": "code",
   "execution_count": 10,
   "metadata": {},
   "outputs": [
    {
     "data": {
      "text/html": [
       "<div>\n",
       "<style scoped>\n",
       "    .dataframe tbody tr th:only-of-type {\n",
       "        vertical-align: middle;\n",
       "    }\n",
       "\n",
       "    .dataframe tbody tr th {\n",
       "        vertical-align: top;\n",
       "    }\n",
       "\n",
       "    .dataframe thead th {\n",
       "        text-align: right;\n",
       "    }\n",
       "</style>\n",
       "<table border=\"1\" class=\"dataframe\">\n",
       "  <thead>\n",
       "    <tr style=\"text-align: right;\">\n",
       "      <th></th>\n",
       "      <th>bathrooms</th>\n",
       "      <th>price</th>\n",
       "      <th>bedrooms</th>\n",
       "      <th>parking_space</th>\n",
       "      <th>year</th>\n",
       "      <th>lat</th>\n",
       "      <th>lng</th>\n",
       "      <th>property_type</th>\n",
       "      <th>addr_street</th>\n",
       "      <th>property_id</th>\n",
       "    </tr>\n",
       "  </thead>\n",
       "  <tbody>\n",
       "    <tr>\n",
       "      <th>0</th>\n",
       "      <td>1.0</td>\n",
       "      <td>3944000.0</td>\n",
       "      <td>2.0</td>\n",
       "      <td>0.0</td>\n",
       "      <td>2008.0</td>\n",
       "      <td>-37.790810</td>\n",
       "      <td>144.930969</td>\n",
       "      <td>house</td>\n",
       "      <td>12 Mulgrave Street</td>\n",
       "      <td>10001.0</td>\n",
       "    </tr>\n",
       "    <tr>\n",
       "      <th>1</th>\n",
       "      <td>1.0</td>\n",
       "      <td>9690000.0</td>\n",
       "      <td>2.0</td>\n",
       "      <td>1.0</td>\n",
       "      <td>2012.0</td>\n",
       "      <td>-37.796301</td>\n",
       "      <td>144.902524</td>\n",
       "      <td>house</td>\n",
       "      <td>42 Lynch Street</td>\n",
       "      <td>1019.0</td>\n",
       "    </tr>\n",
       "    <tr>\n",
       "      <th>2</th>\n",
       "      <td>1.0</td>\n",
       "      <td>11843000.0</td>\n",
       "      <td>2.0</td>\n",
       "      <td>1.0</td>\n",
       "      <td>2013.0</td>\n",
       "      <td>-37.796644</td>\n",
       "      <td>144.930014</td>\n",
       "      <td>house</td>\n",
       "      <td>20 Ormond Street</td>\n",
       "      <td>10236.0</td>\n",
       "    </tr>\n",
       "    <tr>\n",
       "      <th>3</th>\n",
       "      <td>2.0</td>\n",
       "      <td>12155000.0</td>\n",
       "      <td>3.0</td>\n",
       "      <td>2.0</td>\n",
       "      <td>2012.0</td>\n",
       "      <td>-37.792123</td>\n",
       "      <td>144.922080</td>\n",
       "      <td>house</td>\n",
       "      <td>22 Gardner Lane</td>\n",
       "      <td>10263.0</td>\n",
       "    </tr>\n",
       "    <tr>\n",
       "      <th>4</th>\n",
       "      <td>3.0</td>\n",
       "      <td>9030000.0</td>\n",
       "      <td>3.0</td>\n",
       "      <td>1.0</td>\n",
       "      <td>2009.0</td>\n",
       "      <td>-37.794914</td>\n",
       "      <td>144.917038</td>\n",
       "      <td>house</td>\n",
       "      <td>239 Stockmans Way</td>\n",
       "      <td>10286.0</td>\n",
       "    </tr>\n",
       "  </tbody>\n",
       "</table>\n",
       "</div>"
      ],
      "text/plain": [
       "   bathrooms       price  bedrooms  parking_space    year        lat  \\\n",
       "0        1.0   3944000.0       2.0            0.0  2008.0 -37.790810   \n",
       "1        1.0   9690000.0       2.0            1.0  2012.0 -37.796301   \n",
       "2        1.0  11843000.0       2.0            1.0  2013.0 -37.796644   \n",
       "3        2.0  12155000.0       3.0            2.0  2012.0 -37.792123   \n",
       "4        3.0   9030000.0       3.0            1.0  2009.0 -37.794914   \n",
       "\n",
       "          lng property_type         addr_street  property_id  \n",
       "0  144.930969         house  12 Mulgrave Street      10001.0  \n",
       "1  144.902524         house     42 Lynch Street       1019.0  \n",
       "2  144.930014         house    20 Ormond Street      10236.0  \n",
       "3  144.922080         house     22 Gardner Lane      10263.0  \n",
       "4  144.917038         house   239 Stockmans Way      10286.0  "
      ]
     },
     "execution_count": 10,
     "metadata": {},
     "output_type": "execute_result"
    }
   ],
   "source": [
    "estate_df_final.head() # final dataset after merging."
   ]
  },
  {
   "cell_type": "markdown",
   "metadata": {},
   "source": [
    "* reading the hospital data from the html file and placing it into dataframe."
   ]
  },
  {
   "cell_type": "code",
   "execution_count": 11,
   "metadata": {},
   "outputs": [
    {
     "data": {
      "text/html": [
       "<div>\n",
       "<style scoped>\n",
       "    .dataframe tbody tr th:only-of-type {\n",
       "        vertical-align: middle;\n",
       "    }\n",
       "\n",
       "    .dataframe tbody tr th {\n",
       "        vertical-align: top;\n",
       "    }\n",
       "\n",
       "    .dataframe thead th {\n",
       "        text-align: right;\n",
       "    }\n",
       "</style>\n",
       "<table border=\"1\" class=\"dataframe\">\n",
       "  <thead>\n",
       "    <tr style=\"text-align: right;\">\n",
       "      <th></th>\n",
       "      <th>id</th>\n",
       "      <th>lat</th>\n",
       "      <th>lng</th>\n",
       "      <th>name</th>\n",
       "    </tr>\n",
       "  </thead>\n",
       "  <tbody>\n",
       "    <tr>\n",
       "      <th>0</th>\n",
       "      <td>hospital_001</td>\n",
       "      <td>-37.990622</td>\n",
       "      <td>145.072836</td>\n",
       "      <td>Como Private Hospital</td>\n",
       "    </tr>\n",
       "    <tr>\n",
       "      <th>1</th>\n",
       "      <td>hospital_002</td>\n",
       "      <td>-37.855469</td>\n",
       "      <td>145.268183</td>\n",
       "      <td>Mountain District Private Hospital</td>\n",
       "    </tr>\n",
       "    <tr>\n",
       "      <th>2</th>\n",
       "      <td>hospital_003</td>\n",
       "      <td>-37.792230</td>\n",
       "      <td>144.889128</td>\n",
       "      <td>Western Hospital</td>\n",
       "    </tr>\n",
       "    <tr>\n",
       "      <th>3</th>\n",
       "      <td>hospital_004</td>\n",
       "      <td>-37.756042</td>\n",
       "      <td>145.061896</td>\n",
       "      <td>Mercy Hospital for Women</td>\n",
       "    </tr>\n",
       "    <tr>\n",
       "      <th>4</th>\n",
       "      <td>hospital_005</td>\n",
       "      <td>-37.760623</td>\n",
       "      <td>144.815624</td>\n",
       "      <td>Sunshine Hospital</td>\n",
       "    </tr>\n",
       "  </tbody>\n",
       "</table>\n",
       "</div>"
      ],
      "text/plain": [
       "             id        lat         lng                                name\n",
       "0  hospital_001 -37.990622  145.072836               Como Private Hospital\n",
       "1  hospital_002 -37.855469  145.268183  Mountain District Private Hospital\n",
       "2  hospital_003 -37.792230  144.889128                    Western Hospital\n",
       "3  hospital_004 -37.756042  145.061896            Mercy Hospital for Women\n",
       "4  hospital_005 -37.760623  144.815624                   Sunshine Hospital"
      ]
     },
     "execution_count": 11,
     "metadata": {},
     "output_type": "execute_result"
    }
   ],
   "source": [
    "hospital_df = pd.read_html('hospitals.html')\n",
    "hospital_df = hospital_df[0]\n",
    "hospital_df.drop(\"Unnamed: 0\", inplace = True, axis=1)\n",
    "hospital_df.head()"
   ]
  },
  {
   "cell_type": "markdown",
   "metadata": {},
   "source": [
    "* Now we have to find the distance from hospital to property on the basis of min distace.\n",
    "* For this we have calculate the distance with help of latitude and longitude and earth\n",
    "radius we are able to calculate the minimum distance."
   ]
  },
  {
   "cell_type": "code",
   "execution_count": 12,
   "metadata": {},
   "outputs": [],
   "source": [
    "count=0\n",
    "for each in estate_df_final.index:\n",
    "    hosp_min = ''\n",
    "    dist_min = 0\n",
    "    for every in hospital_df.index:    \n",
    "        lat1 = radians(float(hospital_df.iloc[every]['lat']))\n",
    "        lat2 = radians(float(estate_df_final.iloc[each]['lat']))\n",
    "        lon1 = radians(float(hospital_df.iloc[every]['lng']))\n",
    "        lon2 = radians(float(estate_df_final.iloc[each]['lng']))\n",
    "        R = 6378.0\n",
    "\n",
    "\n",
    "        dlon = lon2 - lon1\n",
    "        dlat = lat2 - lat1\n",
    "\n",
    "        a = sin(dlat / 2)**2 + cos(lat1) * cos(lat2) * sin(dlon / 2)**2\n",
    "        c = 2 * atan2(sqrt(a), sqrt(1 - a))\n",
    "\n",
    "        distance = R * c * 1000\n",
    "        \n",
    "        if dist_min == 0:\n",
    "            hosp_min = hospital_df.iloc[every]['id']\n",
    "            dist_min = distance\n",
    "        elif distance < dist_min:\n",
    "            hosp_min = hospital_df.iloc[every]['id']\n",
    "            dist_min = distance\n",
    "    \n",
    "    estate_df_final.at[each, 'hospital_id'] = hosp_min\n",
    "    estate_df_final.at[each, 'distance_to_hospital'] = round(dist_min,3)\n",
    " "
   ]
  },
  {
   "cell_type": "markdown",
   "metadata": {},
   "source": [
    "* reading the super market data from the json file and placing it into dataframe."
   ]
  },
  {
   "cell_type": "code",
   "execution_count": 13,
   "metadata": {},
   "outputs": [
    {
     "data": {
      "text/html": [
       "<div>\n",
       "<style scoped>\n",
       "    .dataframe tbody tr th:only-of-type {\n",
       "        vertical-align: middle;\n",
       "    }\n",
       "\n",
       "    .dataframe tbody tr th {\n",
       "        vertical-align: top;\n",
       "    }\n",
       "\n",
       "    .dataframe thead th {\n",
       "        text-align: right;\n",
       "    }\n",
       "</style>\n",
       "<table border=\"1\" class=\"dataframe\">\n",
       "  <thead>\n",
       "    <tr style=\"text-align: right;\">\n",
       "      <th></th>\n",
       "      <th>id</th>\n",
       "      <th>lat</th>\n",
       "      <th>lng</th>\n",
       "      <th>type</th>\n",
       "    </tr>\n",
       "  </thead>\n",
       "  <tbody>\n",
       "    <tr>\n",
       "      <th>0</th>\n",
       "      <td>S_001</td>\n",
       "      <td>-37.883978</td>\n",
       "      <td>144.735287</td>\n",
       "      <td>Woolworths</td>\n",
       "    </tr>\n",
       "    <tr>\n",
       "      <th>1</th>\n",
       "      <td>S_002</td>\n",
       "      <td>-41.161591</td>\n",
       "      <td>147.514797</td>\n",
       "      <td>Woolworths</td>\n",
       "    </tr>\n",
       "    <tr>\n",
       "      <th>2</th>\n",
       "      <td>S_003</td>\n",
       "      <td>-37.984078</td>\n",
       "      <td>145.077167</td>\n",
       "      <td>Woolworths</td>\n",
       "    </tr>\n",
       "    <tr>\n",
       "      <th>3</th>\n",
       "      <td>S_004</td>\n",
       "      <td>-37.707023</td>\n",
       "      <td>144.938740</td>\n",
       "      <td>Woolworths</td>\n",
       "    </tr>\n",
       "    <tr>\n",
       "      <th>4</th>\n",
       "      <td>S_005</td>\n",
       "      <td>-37.597670</td>\n",
       "      <td>144.938413</td>\n",
       "      <td>Woolworths</td>\n",
       "    </tr>\n",
       "  </tbody>\n",
       "</table>\n",
       "</div>"
      ],
      "text/plain": [
       "      id        lat         lng        type\n",
       "0  S_001 -37.883978  144.735287  Woolworths\n",
       "1  S_002 -41.161591  147.514797  Woolworths\n",
       "2  S_003 -37.984078  145.077167  Woolworths\n",
       "3  S_004 -37.707023  144.938740  Woolworths\n",
       "4  S_005 -37.597670  144.938413  Woolworths"
      ]
     },
     "execution_count": 13,
     "metadata": {},
     "output_type": "execute_result"
    }
   ],
   "source": [
    "supermarket_df = pd.read_json('supermarkets.json')\n",
    "supermarket_df.head()"
   ]
  },
  {
   "cell_type": "markdown",
   "metadata": {},
   "source": [
    "* Now we have to find the distance from supermarket to property on the basis of min distance.\n",
    "* For this we have calculate the distance with help of latitude and longitude and earth\n",
    "radius we are able to calculate the minimum distance."
   ]
  },
  {
   "cell_type": "code",
   "execution_count": 14,
   "metadata": {},
   "outputs": [],
   "source": [
    "count=0\n",
    "for each in estate_df_final.index:\n",
    "    sp_min = ''\n",
    "    dist_min = 0\n",
    "    for every in supermarket_df.index:    \n",
    "        lat1 = radians(float(supermarket_df.iloc[every]['lat']))\n",
    "        lat2 = radians(float(estate_df_final.iloc[each]['lat']))\n",
    "        lon1 = radians(float(supermarket_df.iloc[every]['lng']))\n",
    "        lon2 = radians(float(estate_df_final.iloc[each]['lng']))\n",
    "        R = 6378.0\n",
    "\n",
    "\n",
    "        dlon = lon2 - lon1\n",
    "        dlat = lat2 - lat1\n",
    "\n",
    "        a = sin(dlat / 2)**2 + cos(lat1) * cos(lat2) * sin(dlon / 2)**2\n",
    "        c = 2 * atan2(sqrt(a), sqrt(1 - a))\n",
    "\n",
    "        distance = R * c * 1000\n",
    "        \n",
    "        if dist_min == 0:\n",
    "            sp_min = supermarket_df.iloc[every]['id']\n",
    "            dist_min = distance\n",
    "        elif distance < dist_min:\n",
    "            sp_min = supermarket_df.iloc[every]['id']\n",
    "            dist_min = distance\n",
    "\n",
    "    \n",
    "    estate_df_final.at[each, 'supermarket_id'] = sp_min\n",
    "    estate_df_final.at[each, 'distance_to_supermaket'] = round(dist_min,3)\n",
    " "
   ]
  },
  {
   "cell_type": "markdown",
   "metadata": {},
   "source": [
    "* reading the shopingcenters data from the xlsx file and placing it into dataframe."
   ]
  },
  {
   "cell_type": "code",
   "execution_count": 15,
   "metadata": {},
   "outputs": [
    {
     "data": {
      "text/html": [
       "<div>\n",
       "<style scoped>\n",
       "    .dataframe tbody tr th:only-of-type {\n",
       "        vertical-align: middle;\n",
       "    }\n",
       "\n",
       "    .dataframe tbody tr th {\n",
       "        vertical-align: top;\n",
       "    }\n",
       "\n",
       "    .dataframe thead th {\n",
       "        text-align: right;\n",
       "    }\n",
       "</style>\n",
       "<table border=\"1\" class=\"dataframe\">\n",
       "  <thead>\n",
       "    <tr style=\"text-align: right;\">\n",
       "      <th></th>\n",
       "      <th>sc_id</th>\n",
       "      <th>lat</th>\n",
       "      <th>lng</th>\n",
       "    </tr>\n",
       "  </thead>\n",
       "  <tbody>\n",
       "    <tr>\n",
       "      <th>0</th>\n",
       "      <td>SC_001</td>\n",
       "      <td>-37.767915</td>\n",
       "      <td>145.041790</td>\n",
       "    </tr>\n",
       "    <tr>\n",
       "      <th>1</th>\n",
       "      <td>SC_002</td>\n",
       "      <td>-37.819375</td>\n",
       "      <td>145.171472</td>\n",
       "    </tr>\n",
       "    <tr>\n",
       "      <th>2</th>\n",
       "      <td>SC_003</td>\n",
       "      <td>-37.971131</td>\n",
       "      <td>145.089065</td>\n",
       "    </tr>\n",
       "    <tr>\n",
       "      <th>3</th>\n",
       "      <td>SC_004</td>\n",
       "      <td>-35.280406</td>\n",
       "      <td>149.132550</td>\n",
       "    </tr>\n",
       "    <tr>\n",
       "      <th>4</th>\n",
       "      <td>SC_005</td>\n",
       "      <td>-37.574572</td>\n",
       "      <td>144.920452</td>\n",
       "    </tr>\n",
       "  </tbody>\n",
       "</table>\n",
       "</div>"
      ],
      "text/plain": [
       "    sc_id        lat         lng\n",
       "0  SC_001 -37.767915  145.041790\n",
       "1  SC_002 -37.819375  145.171472\n",
       "2  SC_003 -37.971131  145.089065\n",
       "3  SC_004 -35.280406  149.132550\n",
       "4  SC_005 -37.574572  144.920452"
      ]
     },
     "execution_count": 15,
     "metadata": {},
     "output_type": "execute_result"
    }
   ],
   "source": [
    "shoppingcenter_df = pd.read_excel('shopingcenters.xlsx')\n",
    "shoppingcenter_df.head()"
   ]
  },
  {
   "cell_type": "markdown",
   "metadata": {},
   "source": [
    "* Now we have to find the distance from shopping center to property on the basis of min distace.\n",
    "* For this we have calculate the distance with help of latitude and longitude and earth\n",
    "radius we are able to calculate the minimum distance."
   ]
  },
  {
   "cell_type": "code",
   "execution_count": 16,
   "metadata": {},
   "outputs": [],
   "source": [
    "count=0\n",
    "for each in estate_df_final.index:\n",
    "    sc_min = ''\n",
    "    dist_min = 0\n",
    "    for every in shoppingcenter_df.index:    \n",
    "        lat1 = radians(float(shoppingcenter_df.iloc[every]['lat']))\n",
    "        lat2 = radians(float(estate_df_final.iloc[each]['lat']))\n",
    "        lon1 = radians(float(shoppingcenter_df.iloc[every]['lng']))\n",
    "        lon2 = radians(float(estate_df_final.iloc[each]['lng']))\n",
    "        R = 6378.0\n",
    "\n",
    "\n",
    "        dlon = lon2 - lon1\n",
    "        dlat = lat2 - lat1\n",
    "\n",
    "        a = sin(dlat / 2)**2 + cos(lat1) * cos(lat2) * sin(dlon / 2)**2\n",
    "        c = 2 * atan2(sqrt(a), sqrt(1 - a))\n",
    "\n",
    "        distance = R * c * 1000\n",
    "        \n",
    "        if dist_min == 0:\n",
    "            sc_min = shoppingcenter_df.iloc[every]['sc_id']\n",
    "            dist_min = distance\n",
    "        elif distance < dist_min:\n",
    "            sc_min = shoppingcenter_df.iloc[every]['sc_id']\n",
    "            dist_min = distance\n",
    "\n",
    "    \n",
    "    estate_df_final.at[each, 'shopping_center_id'] = sc_min\n",
    "    estate_df_final.at[each, 'distance_to_sc'] = round(dist_min,3)\n",
    " "
   ]
  },
  {
   "cell_type": "markdown",
   "metadata": {},
   "source": [
    "* We have used the shapely to find the suburb in th file."
   ]
  },
  {
   "cell_type": "code",
   "execution_count": 17,
   "metadata": {},
   "outputs": [],
   "source": [
    "sf = shapefile.Reader('VIC_LOCALITY_POLYGON_shp')\n",
    "recs = sf.records()\n",
    "shapes = sf.shapes()"
   ]
  },
  {
   "cell_type": "code",
   "execution_count": 18,
   "metadata": {},
   "outputs": [
    {
     "data": {
      "image/png": "[encoded data removed]",
      "text/plain": [
       "<matplotlib.figure.Figure at 0x15f67758550>"
      ]
     },
     "metadata": {},
     "output_type": "display_data"
    }
   ],
   "source": [
    "cm = matplotlib.cm.get_cmap('Dark2')\n",
    "\n",
    "Nshp = len(shapes)\n",
    "cccol = cm(1.*np.arange(Nshp)/Nshp)\n",
    "# plotting\n",
    "fig = plt.figure(figsize = (12,6))\n",
    "ax = fig.add_subplot(111)\n",
    "\n",
    "for nshp in range(Nshp):\n",
    "    ptchs   = []\n",
    "    pts     = np.array(shapes[nshp].points)\n",
    "    prt     = shapes[nshp].parts\n",
    "    par     = list(prt) + [pts.shape[0]]\n",
    "    for pij in range(len(prt)):\n",
    "         ptchs.append(Polygon(pts[par[pij]:par[pij+1]]))\n",
    "    ax.add_collection(PatchCollection(ptchs,facecolor=cccol[nshp,:],edgecolor='k', linewidths=.1))\n",
    "\n",
    "ax.set_xlim(140,+152)\n",
    "ax.set_ylim(-40,-33)\n",
    "\n",
    "for each in estate_df_final.index:\n",
    "    x = 0\n",
    "    i = 0\n",
    "    point = (float(estate_df_final.iloc[each]['lng']), float(estate_df_final.iloc[each]['lat']))\n",
    "    \n",
    "    while x == 0:\n",
    "        if i < len(shapes):\n",
    "            boundary = shape(shapes[i])\n",
    "            if (boundary).contains(Point(point)):\n",
    "                estate_df_final.at[each, 'suburb'] = recs[i][6]\n",
    "                x = 1\n",
    "            \n",
    "        else:\n",
    "            x = 1\n",
    "        i = i + 1\n"
   ]
  },
  {
   "cell_type": "markdown",
   "metadata": {},
   "source": [
    "* reading the stops data from the text file and placing it into dataframe."
   ]
  },
  {
   "cell_type": "code",
   "execution_count": 19,
   "metadata": {},
   "outputs": [],
   "source": [
    "trip_df=pd.read_csv('trips.txt')\n",
    "stop_t_df=pd.read_csv('stop_times.txt')\n",
    "calender_df=pd.read_csv('calendar.txt')\n",
    "route_df=pd.read_csv('routes.txt')\n",
    "train_df = pd.read_csv('stops.txt')"
   ]
  },
  {
   "cell_type": "markdown",
   "metadata": {},
   "source": [
    "* Now we have merge all the files which are trips,stop times, calender,routes and stop files on the basis of key and applying the inner join. "
   ]
  },
  {
   "cell_type": "code",
   "execution_count": 20,
   "metadata": {},
   "outputs": [
    {
     "data": {
      "text/plain": [
       "(390305, 31)"
      ]
     },
     "execution_count": 20,
     "metadata": {},
     "output_type": "execute_result"
    }
   ],
   "source": [
    "\n",
    "all_train_data_df = calender_df.merge(trip_df,how ='inner',on=['service_id'])\n",
    "\n",
    "all_train_data_df = all_train_data_df.merge(stop_t_df,how ='inner',on=['trip_id'])\n",
    "\n",
    "all_train_data_df = all_train_data_df.merge(route_df,how ='inner',on=['route_id'])\n",
    "\n",
    "all_train_data_df = all_train_data_df.merge(train_df,how ='inner',on=['stop_id'])\n",
    "all_train_data_df.shape\n"
   ]
  },
  {
   "cell_type": "code",
   "execution_count": 21,
   "metadata": {},
   "outputs": [],
   "source": [
    "# selecting all T0 weekdays id only.\n",
    "all_train_data_df = all_train_data_df[all_train_data_df.trip_id.str.contains(\"T0\")]"
   ]
  },
  {
   "cell_type": "markdown",
   "metadata": {},
   "source": [
    "* Direct transfer calculation is given below"
   ]
  },
  {
   "cell_type": "code",
   "execution_count": 22,
   "metadata": {
    "scrolled": true
   },
   "outputs": [],
   "source": [
    "train_stop_transfer_df = pd.DataFrame(columns = ['stop_id','flag','time'])\n",
    "list_of_stops=[]\n",
    "list_of_stops=train_df['stop_id'].tolist()\n",
    "\n",
    "inter_1=all_train_data_df[(all_train_data_df['stop_id']== 19854) & (all_train_data_df['trip_headsign']=='City (Flinders Street)')]\n",
    "inter_2=all_train_data_df[(all_train_data_df['stop_id']!=19854) & (all_train_data_df['departure_time']>='07:00:00')& \n",
    "                          (all_train_data_df['departure_time']<='09:00:00')& \n",
    "                          (all_train_data_df['trip_headsign']=='City (Flinders Street)')]\n",
    "\n",
    "inter_1=inter_1[['trip_id','arrival_time','departure_time','stop_id']]\n",
    "inter_2=inter_2[['trip_id','arrival_time','departure_time','stop_id']]\n",
    "\n",
    "inter_1_2_merge=inter_1.merge(inter_2, on=['trip_id'],\n",
    "                            how = 'inner')\n",
    "\n",
    "inter_1_2_merge['arr_dep']=pd.to_datetime(inter_1_2_merge['arrival_time_x'])-pd.to_datetime(inter_1_2_merge['departure_time_y'])\n",
    "inter_1_2_merge['arr_dep_sec']=inter_1_2_merge['arr_dep'].dt.total_seconds()/60\n",
    "\n",
    "for every in list_of_stops:\n",
    "    if every != 19854:                                 \n",
    "        length=len(train_stop_transfer_df)\n",
    "        train_stop_transfer_df.at[length,'stop_id']= every\n",
    "        train_stop_transfer_df.at[length,'flag']= 0\n",
    "        train_stop_transfer_df.at[length,'time']= round(inter_1_2_merge.loc[inter_1_2_merge['stop_id_y']==every]['arr_dep_sec'].mean(),3)\n",
    "        \n",
    "length=len(train_stop_transfer_df)\n",
    "train_stop_transfer_df.at[length,'stop_id'] = 19854\n",
    "train_stop_transfer_df.at[length,'flag'] = 0\n",
    "train_stop_transfer_df.at[length,'time'] = 0"
   ]
  },
  {
   "cell_type": "markdown",
   "metadata": {},
   "source": [
    "* We have seprated the na stop and put it in list"
   ]
  },
  {
   "cell_type": "code",
   "execution_count": 23,
   "metadata": {},
   "outputs": [
    {
     "name": "stdout",
     "output_type": "stream",
     "text": [
      "[19827, 19828, 19829, 19830, 19831, 19832, 19833, 19834, 19836, 20027, 20028]\n"
     ]
    }
   ],
   "source": [
    "stop_na_list=[]\n",
    "for each in train_stop_transfer_df.index:\n",
    "    if pd.isna(train_stop_transfer_df.loc[each]['time']):\n",
    "        stop_na_list.append(train_stop_transfer_df.loc[each]['stop_id'])\n",
    "print(stop_na_list)               "
   ]
  },
  {
   "cell_type": "markdown",
   "metadata": {},
   "source": [
    "* Now we have calculated for the indirect transfer in the below section."
   ]
  },
  {
   "cell_type": "code",
   "execution_count": 24,
   "metadata": {},
   "outputs": [],
   "source": [
    "for stop in stop_na_list:\n",
    "    time = 0\n",
    "    count =0 \n",
    "    for j in all_train_data_df[(all_train_data_df.stop_id == stop) & (all_train_data_df['departure_time']>='07:00:00') &\\\n",
    "                      (all_train_data_df['departure_time']<='09:00:00') & (all_train_data_df.direction_id == 0)].index:\n",
    "        \n",
    "        trip_stop = all_train_data_df.loc[j]['trip_id']\n",
    "        list_stop = all_train_data_df[(all_train_data_df['trip_id']==trip_stop)]['stop_id'].tolist()\n",
    "        list_stop = list(set(list_stop))\n",
    "        \n",
    "        for y in list_stop:\n",
    "            for idx in all_train_data_df.loc[all_train_data_df['stop_id']==y].index:\n",
    "                if all_train_data_df.loc[idx]['trip_headsign'] == 'City (Flinders Street)':\n",
    "\n",
    "                    direct = all_train_data_df.loc[idx]['stop_id']\n",
    "                    time = train_stop_transfer_df.loc[train_stop_transfer_df['stop_id']==direct]['time'].item()\n",
    "                        \n",
    "                    arr_time = all_train_data_df.loc[(all_train_data_df['trip_id']==trip_stop) &(all_train_data_df['stop_id']==direct)]['arrival_time'].item()\n",
    "                    \n",
    "                    difference = pd.to_datetime(arr_time)-pd.to_datetime(all_train_data_df.loc[j]['departure_time'])\n",
    "                    difference = difference.total_seconds()/60\n",
    "                    \n",
    "                    time+=difference\n",
    "          \n",
    "    if time != 0: \n",
    "        i = train_stop_transfer_df.loc[train_stop_transfer_df.stop_id == stop].index\n",
    "        train_stop_transfer_df.at[i, 'time'] =round(time,3)\n",
    "        train_stop_transfer_df.at[i, 'flag'] = 1     \n",
    "\n",
    "                            "
   ]
  },
  {
   "cell_type": "code",
   "execution_count": 25,
   "metadata": {},
   "outputs": [],
   "source": [
    "train_stop_transfer_df = train_stop_transfer_df[pd.isna(train_stop_transfer_df.time)==False]"
   ]
  },
  {
   "cell_type": "code",
   "execution_count": 26,
   "metadata": {},
   "outputs": [],
   "source": [
    "train_df = train_df.merge(train_stop_transfer_df, on = ['stop_id'], how = 'inner')"
   ]
  },
  {
   "cell_type": "markdown",
   "metadata": {},
   "source": [
    "* Now we have to find the distance from train station to property on the basis of min distace.\n",
    "* For this we have calculate the distance with help of latitude and longitude and earth\n",
    "radius we are able to calculate the minimum distance."
   ]
  },
  {
   "cell_type": "code",
   "execution_count": 27,
   "metadata": {},
   "outputs": [],
   "source": [
    "count=0\n",
    "for each in estate_df_final.index:\n",
    "    stop_min = ''\n",
    "    dist_min = 0\n",
    "    for every in train_df.index:    \n",
    "        lat1 = radians(float(train_df.iloc[every]['stop_lat']))\n",
    "        lat2 = radians(float(estate_df_final.iloc[each]['lat']))\n",
    "        lon1 = radians(float(train_df.iloc[every]['stop_lon']))\n",
    "        lon2 = radians(float(estate_df_final.iloc[each]['lng']))\n",
    "        R = 6378.0\n",
    "\n",
    "\n",
    "        dlon = lon2 - lon1\n",
    "        dlat = lat2 - lat1\n",
    "\n",
    "        a = sin(dlat / 2)**2 + cos(lat1) * cos(lat2) * sin(dlon / 2)**2\n",
    "        c = 2 * atan2(sqrt(a), sqrt(1 - a))\n",
    "\n",
    "        distance = R * c * 1000\n",
    "        \n",
    "        if dist_min == 0:\n",
    "            stop_min = train_df.iloc[every]['stop_id']\n",
    "            dist_min = distance\n",
    "        elif distance < dist_min:\n",
    "            stop_min = train_df.iloc[every]['stop_id']\n",
    "            dist_min = distance\n",
    "\n",
    "    \n",
    "    estate_df_final.at[each, 'train_station_id'] = stop_min\n",
    "    estate_df_final.at[each, 'distance_to_train_station'] = round(dist_min,0)\n",
    "    estate_df_final.at[each, 'transfer_flag'] = train_df.loc[train_df.stop_id == stop_min]['flag'].item()\n",
    "    estate_df_final.at[each, 'travel_min_to_CBD'] = train_df.loc[train_df.stop_id == stop_min]['time'].item() "
   ]
  },
  {
   "cell_type": "code",
   "execution_count": 28,
   "metadata": {},
   "outputs": [],
   "source": [
    "estate_df_final = estate_df_final[['property_id', 'lat', 'lng', 'addr_street', 'suburb', 'price', 'property_type', \n",
    "                                   'year','bedrooms', 'bathrooms','parking_space', 'shopping_center_id', \n",
    "                                   'distance_to_sc', 'train_station_id', 'distance_to_train_station','travel_min_to_CBD',\n",
    "                                   'transfer_flag', 'hospital_id', 'distance_to_hospital', 'supermarket_id',\n",
    "                                   'distance_to_supermaket' ]]"
   ]
  },
  {
   "cell_type": "code",
   "execution_count": 29,
   "metadata": {},
   "outputs": [],
   "source": [
    "estate_df_final.to_csv('29325293_solution.csv')"
   ]
  },
  {
   "cell_type": "markdown",
   "metadata": {},
   "source": [
    "## Task 2: data reshaping\n",
    "In this, we are going to study the different effects of standardization, minmax normalization, log, power and sqrt transformation) on the price attribute and observe and will explain their effect on the price distribution."
   ]
  },
  {
   "cell_type": "markdown",
   "metadata": {},
   "source": [
    "* Now we are going to see the effects of different noramlization/transformation methods:\n",
    "    * standardization \n",
    "    * minmax normalization\n",
    "    * log \n",
    "    * power\n",
    "    * sqrt transformation\n",
    "* There are many reasons to do the data transformation which are mentioned below:\n",
    "    * Firstly Visualization of data increases ability to understand data.\n",
    "    * Improve the compatibility of data with assumptions underlying a modelling\n",
    "      process.\n",
    "    * we have to fix the skew in the data.\n",
    "    * Better interpretability\n",
    "    \n",
    "* Basically we have to change the attributes in such a way so that the new attributes increases the power of prediction of the model. And also helps in enhancing the linearity, visual aid and statistical power of the model\n",
    "\n",
    "* There are two types of data normalisation:\n",
    "    * Standardisation (z-score normalisation):\n",
    "    * Scaling by\n",
    "        * Min-Max normalisation\n",
    "        * Decimal scaling"
   ]
  },
  {
   "cell_type": "markdown",
   "metadata": {},
   "source": [
    "### Given value of the price attribute"
   ]
  },
  {
   "cell_type": "markdown",
   "metadata": {},
   "source": [
    "* In below section we are going to see the histogram of price for bins 50 and check where is data skewed."
   ]
  },
  {
   "cell_type": "code",
   "execution_count": 30,
   "metadata": {
    "scrolled": true
   },
   "outputs": [
    {
     "data": {
      "text/plain": [
       "array([[<matplotlib.axes._subplots.AxesSubplot object at 0x0000015F6C3C0DD8>]],\n",
       "      dtype=object)"
      ]
     },
     "execution_count": 30,
     "metadata": {},
     "output_type": "execute_result"
    },
    {
     "data": {
      "image/png": "[encoded data removed]",
      "text/plain": [
       "<matplotlib.figure.Figure at 0x15f6c74c1d0>"
      ]
     },
     "metadata": {},
     "output_type": "display_data"
    }
   ],
   "source": [
    "estate_df_final.hist('price', bins = 50)"
   ]
  },
  {
   "cell_type": "markdown",
   "metadata": {},
   "source": [
    "* In this we can see that data is right skewed now fill check and fit in linear model."
   ]
  },
  {
   "cell_type": "markdown",
   "metadata": {},
   "source": [
    "* Below is the linear model that we are going to make on the basis of number of bedroom, bathrooms, parking space and property type. After this when we have checked the value of skew is 1.815 and kurtosis is 7.999 note it down."
   ]
  },
  {
   "cell_type": "code",
   "execution_count": 31,
   "metadata": {},
   "outputs": [
    {
     "data": {
      "text/html": [
       "<table class=\"simpletable\">\n",
       "<caption>OLS Regression Results</caption>\n",
       "<tr>\n",
       "  <th>Dep. Variable:</th>          <td>price</td>      <th>  R-squared:         </th> <td>   0.078</td> \n",
       "</tr>\n",
       "<tr>\n",
       "  <th>Model:</th>                   <td>OLS</td>       <th>  Adj. R-squared:    </th> <td>   0.077</td> \n",
       "</tr>\n",
       "<tr>\n",
       "  <th>Method:</th>             <td>Least Squares</td>  <th>  F-statistic:       </th> <td>   55.30</td> \n",
       "</tr>\n",
       "<tr>\n",
       "  <th>Date:</th>             <td>Fri, 26 Oct 2018</td> <th>  Prob (F-statistic):</th> <td>2.61e-34</td> \n",
       "</tr>\n",
       "<tr>\n",
       "  <th>Time:</th>                 <td>23:51:28</td>     <th>  Log-Likelihood:    </th> <td> -33361.</td> \n",
       "</tr>\n",
       "<tr>\n",
       "  <th>No. Observations:</th>      <td>  1965</td>      <th>  AIC:               </th> <td>6.673e+04</td>\n",
       "</tr>\n",
       "<tr>\n",
       "  <th>Df Residuals:</th>          <td>  1961</td>      <th>  BIC:               </th> <td>6.675e+04</td>\n",
       "</tr>\n",
       "<tr>\n",
       "  <th>Df Model:</th>              <td>     3</td>      <th>                     </th>     <td> </td>    \n",
       "</tr>\n",
       "<tr>\n",
       "  <th>Covariance Type:</th>      <td>nonrobust</td>    <th>                     </th>     <td> </td>    \n",
       "</tr>\n",
       "</table>\n",
       "<table class=\"simpletable\">\n",
       "<tr>\n",
       "        <td></td>           <th>coef</th>     <th>std err</th>      <th>t</th>      <th>P>|t|</th>  <th>[0.025</th>    <th>0.975]</th>  \n",
       "</tr>\n",
       "<tr>\n",
       "  <th>Intercept</th>     <td> 3.404e+06</td> <td> 5.59e+05</td> <td>    6.093</td> <td> 0.000</td> <td> 2.31e+06</td> <td>  4.5e+06</td>\n",
       "</tr>\n",
       "<tr>\n",
       "  <th>bedrooms</th>      <td> 9.131e+05</td> <td> 2.05e+05</td> <td>    4.450</td> <td> 0.000</td> <td> 5.11e+05</td> <td> 1.32e+06</td>\n",
       "</tr>\n",
       "<tr>\n",
       "  <th>bathrooms</th>     <td> 1.869e+06</td> <td> 2.58e+05</td> <td>    7.233</td> <td> 0.000</td> <td> 1.36e+06</td> <td> 2.38e+06</td>\n",
       "</tr>\n",
       "<tr>\n",
       "  <th>parking_space</th> <td>-3.452e+04</td> <td> 1.79e+05</td> <td>   -0.193</td> <td> 0.847</td> <td>-3.85e+05</td> <td> 3.16e+05</td>\n",
       "</tr>\n",
       "</table>\n",
       "<table class=\"simpletable\">\n",
       "<tr>\n",
       "  <th>Omnibus:</th>       <td>746.401</td> <th>  Durbin-Watson:     </th> <td>   1.713</td>\n",
       "</tr>\n",
       "<tr>\n",
       "  <th>Prob(Omnibus):</th> <td> 0.000</td>  <th>  Jarque-Bera (JB):  </th> <td>3124.302</td>\n",
       "</tr>\n",
       "<tr>\n",
       "  <th>Skew:</th>          <td> 1.815</td>  <th>  Prob(JB):          </th> <td>    0.00</td>\n",
       "</tr>\n",
       "<tr>\n",
       "  <th>Kurtosis:</th>      <td> 7.999</td>  <th>  Cond. No.          </th> <td>    18.7</td>\n",
       "</tr>\n",
       "</table>"
      ],
      "text/plain": [
       "<class 'statsmodels.iolib.summary.Summary'>\n",
       "\"\"\"\n",
       "                            OLS Regression Results                            \n",
       "==============================================================================\n",
       "Dep. Variable:                  price   R-squared:                       0.078\n",
       "Model:                            OLS   Adj. R-squared:                  0.077\n",
       "Method:                 Least Squares   F-statistic:                     55.30\n",
       "Date:                Fri, 26 Oct 2018   Prob (F-statistic):           2.61e-34\n",
       "Time:                        23:51:28   Log-Likelihood:                -33361.\n",
       "No. Observations:                1965   AIC:                         6.673e+04\n",
       "Df Residuals:                    1961   BIC:                         6.675e+04\n",
       "Df Model:                           3                                         \n",
       "Covariance Type:            nonrobust                                         \n",
       "=================================================================================\n",
       "                    coef    std err          t      P>|t|      [0.025      0.975]\n",
       "---------------------------------------------------------------------------------\n",
       "Intercept      3.404e+06   5.59e+05      6.093      0.000    2.31e+06     4.5e+06\n",
       "bedrooms       9.131e+05   2.05e+05      4.450      0.000    5.11e+05    1.32e+06\n",
       "bathrooms      1.869e+06   2.58e+05      7.233      0.000    1.36e+06    2.38e+06\n",
       "parking_space -3.452e+04   1.79e+05     -0.193      0.847   -3.85e+05    3.16e+05\n",
       "==============================================================================\n",
       "Omnibus:                      746.401   Durbin-Watson:                   1.713\n",
       "Prob(Omnibus):                  0.000   Jarque-Bera (JB):             3124.302\n",
       "Skew:                           1.815   Prob(JB):                         0.00\n",
       "Kurtosis:                       7.999   Cond. No.                         18.7\n",
       "==============================================================================\n",
       "\n",
       "Warnings:\n",
       "[1] Standard Errors assume that the covariance matrix of the errors is correctly specified.\n",
       "\"\"\""
      ]
     },
     "execution_count": 31,
     "metadata": {},
     "output_type": "execute_result"
    }
   ],
   "source": [
    "model = smf.ols(formula='price ~ bedrooms + bathrooms + parking_space + property_type', data=estate_df_final)\n",
    "estate_model = model.fit()\n",
    "estate_model.summary()"
   ]
  },
  {
   "cell_type": "markdown",
   "metadata": {},
   "source": [
    "### Normalization of the price attribute"
   ]
  },
  {
   "cell_type": "markdown",
   "metadata": {},
   "source": [
    "* Now we have applied the min max scaler to the data and scale the variable whose values are in a specific range. And created the histogram to check the skewness of data."
   ]
  },
  {
   "cell_type": "code",
   "execution_count": 32,
   "metadata": {},
   "outputs": [
    {
     "data": {
      "text/plain": [
       "array([[<matplotlib.axes._subplots.AxesSubplot object at 0x0000015F677F71D0>]],\n",
       "      dtype=object)"
      ]
     },
     "execution_count": 32,
     "metadata": {},
     "output_type": "execute_result"
    },
    {
     "data": {
      "image/png": "[encoded data removed]",
      "text/plain": [
       "<matplotlib.figure.Figure at 0x15f0015a2b0>"
      ]
     },
     "metadata": {},
     "output_type": "display_data"
    }
   ],
   "source": [
    "scale= preprocessing.MinMaxScaler().fit(estate_df_final[['price']])\n",
    "estate_df_final['normalized_price'] = scale.transform(estate_df_final[['price']])\n",
    "estate_df_final.hist(column= 'normalized_price', bins = 50)\n"
   ]
  },
  {
   "cell_type": "markdown",
   "metadata": {},
   "source": [
    "* In this we can see that data is right skewed now fill check and fit in linear model."
   ]
  },
  {
   "cell_type": "markdown",
   "metadata": {},
   "source": [
    "* Below is the linear model that we are going to make on the basis of number of bedroom, bathrooms, parking space and property type. After this when we have checked the value of skew is 1.815 and kurtosis 7.999 note it down. After checking skew and kurtosis value we have seen that this is not better and values are same. "
   ]
  },
  {
   "cell_type": "code",
   "execution_count": 33,
   "metadata": {},
   "outputs": [
    {
     "data": {
      "text/html": [
       "<table class=\"simpletable\">\n",
       "<caption>OLS Regression Results</caption>\n",
       "<tr>\n",
       "  <th>Dep. Variable:</th>    <td>normalized_price</td> <th>  R-squared:         </th> <td>   0.078</td>\n",
       "</tr>\n",
       "<tr>\n",
       "  <th>Model:</th>                   <td>OLS</td>       <th>  Adj. R-squared:    </th> <td>   0.077</td>\n",
       "</tr>\n",
       "<tr>\n",
       "  <th>Method:</th>             <td>Least Squares</td>  <th>  F-statistic:       </th> <td>   55.30</td>\n",
       "</tr>\n",
       "<tr>\n",
       "  <th>Date:</th>             <td>Fri, 26 Oct 2018</td> <th>  Prob (F-statistic):</th> <td>2.61e-34</td>\n",
       "</tr>\n",
       "<tr>\n",
       "  <th>Time:</th>                 <td>23:51:28</td>     <th>  Log-Likelihood:    </th> <td>  1227.5</td>\n",
       "</tr>\n",
       "<tr>\n",
       "  <th>No. Observations:</th>      <td>  1965</td>      <th>  AIC:               </th> <td>  -2447.</td>\n",
       "</tr>\n",
       "<tr>\n",
       "  <th>Df Residuals:</th>          <td>  1961</td>      <th>  BIC:               </th> <td>  -2425.</td>\n",
       "</tr>\n",
       "<tr>\n",
       "  <th>Df Model:</th>              <td>     3</td>      <th>                     </th>     <td> </td>   \n",
       "</tr>\n",
       "<tr>\n",
       "  <th>Covariance Type:</th>      <td>nonrobust</td>    <th>                     </th>     <td> </td>   \n",
       "</tr>\n",
       "</table>\n",
       "<table class=\"simpletable\">\n",
       "<tr>\n",
       "        <td></td>           <th>coef</th>     <th>std err</th>      <th>t</th>      <th>P>|t|</th>  <th>[0.025</th>    <th>0.975]</th>  \n",
       "</tr>\n",
       "<tr>\n",
       "  <th>Intercept</th>     <td>    0.0560</td> <td>    0.013</td> <td>    4.425</td> <td> 0.000</td> <td>    0.031</td> <td>    0.081</td>\n",
       "</tr>\n",
       "<tr>\n",
       "  <th>bedrooms</th>      <td>    0.0207</td> <td>    0.005</td> <td>    4.450</td> <td> 0.000</td> <td>    0.012</td> <td>    0.030</td>\n",
       "</tr>\n",
       "<tr>\n",
       "  <th>bathrooms</th>     <td>    0.0424</td> <td>    0.006</td> <td>    7.233</td> <td> 0.000</td> <td>    0.031</td> <td>    0.054</td>\n",
       "</tr>\n",
       "<tr>\n",
       "  <th>parking_space</th> <td>   -0.0008</td> <td>    0.004</td> <td>   -0.193</td> <td> 0.847</td> <td>   -0.009</td> <td>    0.007</td>\n",
       "</tr>\n",
       "</table>\n",
       "<table class=\"simpletable\">\n",
       "<tr>\n",
       "  <th>Omnibus:</th>       <td>746.401</td> <th>  Durbin-Watson:     </th> <td>   1.713</td>\n",
       "</tr>\n",
       "<tr>\n",
       "  <th>Prob(Omnibus):</th> <td> 0.000</td>  <th>  Jarque-Bera (JB):  </th> <td>3124.302</td>\n",
       "</tr>\n",
       "<tr>\n",
       "  <th>Skew:</th>          <td> 1.815</td>  <th>  Prob(JB):          </th> <td>    0.00</td>\n",
       "</tr>\n",
       "<tr>\n",
       "  <th>Kurtosis:</th>      <td> 7.999</td>  <th>  Cond. No.          </th> <td>    18.7</td>\n",
       "</tr>\n",
       "</table>"
      ],
      "text/plain": [
       "<class 'statsmodels.iolib.summary.Summary'>\n",
       "\"\"\"\n",
       "                            OLS Regression Results                            \n",
       "==============================================================================\n",
       "Dep. Variable:       normalized_price   R-squared:                       0.078\n",
       "Model:                            OLS   Adj. R-squared:                  0.077\n",
       "Method:                 Least Squares   F-statistic:                     55.30\n",
       "Date:                Fri, 26 Oct 2018   Prob (F-statistic):           2.61e-34\n",
       "Time:                        23:51:28   Log-Likelihood:                 1227.5\n",
       "No. Observations:                1965   AIC:                            -2447.\n",
       "Df Residuals:                    1961   BIC:                            -2425.\n",
       "Df Model:                           3                                         \n",
       "Covariance Type:            nonrobust                                         \n",
       "=================================================================================\n",
       "                    coef    std err          t      P>|t|      [0.025      0.975]\n",
       "---------------------------------------------------------------------------------\n",
       "Intercept         0.0560      0.013      4.425      0.000       0.031       0.081\n",
       "bedrooms          0.0207      0.005      4.450      0.000       0.012       0.030\n",
       "bathrooms         0.0424      0.006      7.233      0.000       0.031       0.054\n",
       "parking_space    -0.0008      0.004     -0.193      0.847      -0.009       0.007\n",
       "==============================================================================\n",
       "Omnibus:                      746.401   Durbin-Watson:                   1.713\n",
       "Prob(Omnibus):                  0.000   Jarque-Bera (JB):             3124.302\n",
       "Skew:                           1.815   Prob(JB):                         0.00\n",
       "Kurtosis:                       7.999   Cond. No.                         18.7\n",
       "==============================================================================\n",
       "\n",
       "Warnings:\n",
       "[1] Standard Errors assume that the covariance matrix of the errors is correctly specified.\n",
       "\"\"\""
      ]
     },
     "execution_count": 33,
     "metadata": {},
     "output_type": "execute_result"
    }
   ],
   "source": [
    "model = smf.ols(formula='normalized_price ~ bedrooms + bathrooms + parking_space + property_type', data=estate_df_final)\n",
    "estate_model_minmax = model.fit()\n",
    "estate_model_minmax.summary()"
   ]
  },
  {
   "cell_type": "markdown",
   "metadata": {},
   "source": [
    "### Standardization of the price attribute"
   ]
  },
  {
   "cell_type": "markdown",
   "metadata": {},
   "source": [
    "* Now we are going to apply z-score normalisation where we do the shifting the distribution of data of mean and standard deviation as 0 and 1 respectively.\n",
    "* In below section we are going to see the histogram of standardized price for bins 50 and check where is data skewed.\n",
    "* In this we can see that data is right skewed now fill check and fit in linear model."
   ]
  },
  {
   "cell_type": "code",
   "execution_count": 34,
   "metadata": {},
   "outputs": [
    {
     "data": {
      "text/plain": [
       "array([[<matplotlib.axes._subplots.AxesSubplot object at 0x0000015F00CC4DD8>]],\n",
       "      dtype=object)"
      ]
     },
     "execution_count": 34,
     "metadata": {},
     "output_type": "execute_result"
    },
    {
     "data": {
      "image/png": "[encoded data removed]",
      "text/plain": [
       "<matplotlib.figure.Figure at 0x15f00c04208>"
      ]
     },
     "metadata": {},
     "output_type": "display_data"
    }
   ],
   "source": [
    "scale= preprocessing.StandardScaler().fit(estate_df_final[['price']])\n",
    "estate_df_final['standard_price'] = scale.transform(estate_df_final[['price']])\n",
    "estate_df_final.hist(column= 'standard_price', bins = 50)"
   ]
  },
  {
   "cell_type": "markdown",
   "metadata": {},
   "source": [
    "* Below is the linear model that we are going to make on the basis of number of bedroom, bathrooms, parking space and property type. After this when we have checked the value of skew is 1.815 and kurtosis 7.999 note it down. After checking skew and kurtosis value we have seen that this is not better and values are same. So, nothing can be concluded. "
   ]
  },
  {
   "cell_type": "code",
   "execution_count": 35,
   "metadata": {},
   "outputs": [
    {
     "data": {
      "text/html": [
       "<table class=\"simpletable\">\n",
       "<caption>OLS Regression Results</caption>\n",
       "<tr>\n",
       "  <th>Dep. Variable:</th>     <td>standard_price</td>  <th>  R-squared:         </th> <td>   0.078</td>\n",
       "</tr>\n",
       "<tr>\n",
       "  <th>Model:</th>                   <td>OLS</td>       <th>  Adj. R-squared:    </th> <td>   0.077</td>\n",
       "</tr>\n",
       "<tr>\n",
       "  <th>Method:</th>             <td>Least Squares</td>  <th>  F-statistic:       </th> <td>   55.30</td>\n",
       "</tr>\n",
       "<tr>\n",
       "  <th>Date:</th>             <td>Fri, 26 Oct 2018</td> <th>  Prob (F-statistic):</th> <td>2.61e-34</td>\n",
       "</tr>\n",
       "<tr>\n",
       "  <th>Time:</th>                 <td>23:51:29</td>     <th>  Log-Likelihood:    </th> <td> -2708.4</td>\n",
       "</tr>\n",
       "<tr>\n",
       "  <th>No. Observations:</th>      <td>  1965</td>      <th>  AIC:               </th> <td>   5425.</td>\n",
       "</tr>\n",
       "<tr>\n",
       "  <th>Df Residuals:</th>          <td>  1961</td>      <th>  BIC:               </th> <td>   5447.</td>\n",
       "</tr>\n",
       "<tr>\n",
       "  <th>Df Model:</th>              <td>     3</td>      <th>                     </th>     <td> </td>   \n",
       "</tr>\n",
       "<tr>\n",
       "  <th>Covariance Type:</th>      <td>nonrobust</td>    <th>                     </th>     <td> </td>   \n",
       "</tr>\n",
       "</table>\n",
       "<table class=\"simpletable\">\n",
       "<tr>\n",
       "        <td></td>           <th>coef</th>     <th>std err</th>      <th>t</th>      <th>P>|t|</th>  <th>[0.025</th>    <th>0.975]</th>  \n",
       "</tr>\n",
       "<tr>\n",
       "  <th>Intercept</th>     <td>   -0.9810</td> <td>    0.094</td> <td>  -10.453</td> <td> 0.000</td> <td>   -1.165</td> <td>   -0.797</td>\n",
       "</tr>\n",
       "<tr>\n",
       "  <th>bedrooms</th>      <td>    0.1534</td> <td>    0.034</td> <td>    4.450</td> <td> 0.000</td> <td>    0.086</td> <td>    0.221</td>\n",
       "</tr>\n",
       "<tr>\n",
       "  <th>bathrooms</th>     <td>    0.3141</td> <td>    0.043</td> <td>    7.233</td> <td> 0.000</td> <td>    0.229</td> <td>    0.399</td>\n",
       "</tr>\n",
       "<tr>\n",
       "  <th>parking_space</th> <td>   -0.0058</td> <td>    0.030</td> <td>   -0.193</td> <td> 0.847</td> <td>   -0.065</td> <td>    0.053</td>\n",
       "</tr>\n",
       "</table>\n",
       "<table class=\"simpletable\">\n",
       "<tr>\n",
       "  <th>Omnibus:</th>       <td>746.401</td> <th>  Durbin-Watson:     </th> <td>   1.713</td>\n",
       "</tr>\n",
       "<tr>\n",
       "  <th>Prob(Omnibus):</th> <td> 0.000</td>  <th>  Jarque-Bera (JB):  </th> <td>3124.302</td>\n",
       "</tr>\n",
       "<tr>\n",
       "  <th>Skew:</th>          <td> 1.815</td>  <th>  Prob(JB):          </th> <td>    0.00</td>\n",
       "</tr>\n",
       "<tr>\n",
       "  <th>Kurtosis:</th>      <td> 7.999</td>  <th>  Cond. No.          </th> <td>    18.7</td>\n",
       "</tr>\n",
       "</table>"
      ],
      "text/plain": [
       "<class 'statsmodels.iolib.summary.Summary'>\n",
       "\"\"\"\n",
       "                            OLS Regression Results                            \n",
       "==============================================================================\n",
       "Dep. Variable:         standard_price   R-squared:                       0.078\n",
       "Model:                            OLS   Adj. R-squared:                  0.077\n",
       "Method:                 Least Squares   F-statistic:                     55.30\n",
       "Date:                Fri, 26 Oct 2018   Prob (F-statistic):           2.61e-34\n",
       "Time:                        23:51:29   Log-Likelihood:                -2708.4\n",
       "No. Observations:                1965   AIC:                             5425.\n",
       "Df Residuals:                    1961   BIC:                             5447.\n",
       "Df Model:                           3                                         \n",
       "Covariance Type:            nonrobust                                         \n",
       "=================================================================================\n",
       "                    coef    std err          t      P>|t|      [0.025      0.975]\n",
       "---------------------------------------------------------------------------------\n",
       "Intercept        -0.9810      0.094    -10.453      0.000      -1.165      -0.797\n",
       "bedrooms          0.1534      0.034      4.450      0.000       0.086       0.221\n",
       "bathrooms         0.3141      0.043      7.233      0.000       0.229       0.399\n",
       "parking_space    -0.0058      0.030     -0.193      0.847      -0.065       0.053\n",
       "==============================================================================\n",
       "Omnibus:                      746.401   Durbin-Watson:                   1.713\n",
       "Prob(Omnibus):                  0.000   Jarque-Bera (JB):             3124.302\n",
       "Skew:                           1.815   Prob(JB):                         0.00\n",
       "Kurtosis:                       7.999   Cond. No.                         18.7\n",
       "==============================================================================\n",
       "\n",
       "Warnings:\n",
       "[1] Standard Errors assume that the covariance matrix of the errors is correctly specified.\n",
       "\"\"\""
      ]
     },
     "execution_count": 35,
     "metadata": {},
     "output_type": "execute_result"
    }
   ],
   "source": [
    "model = smf.ols(formula='standard_price ~ bedrooms + bathrooms + parking_space + property_type', data=estate_df_final)\n",
    "estate_model_standard = model.fit()\n",
    "estate_model_standard.summary()"
   ]
  },
  {
   "cell_type": "markdown",
   "metadata": {},
   "source": [
    "### Log transformation of price attribute"
   ]
  },
  {
   "cell_type": "markdown",
   "metadata": {},
   "source": [
    "* In below section we are going to see the histogram of log value of price for bins 50 and check where is data skewed. \n",
    "* In this we can see that data is normally distributed and now fill check and fit in linear model."
   ]
  },
  {
   "cell_type": "code",
   "execution_count": 36,
   "metadata": {},
   "outputs": [
    {
     "data": {
      "text/plain": [
       "array([[<matplotlib.axes._subplots.AxesSubplot object at 0x0000015F00C87F98>]],\n",
       "      dtype=object)"
      ]
     },
     "execution_count": 36,
     "metadata": {},
     "output_type": "execute_result"
    },
    {
     "data": {
      "image/png": "[encoded data removed]",
      "text/plain": [
       "<matplotlib.figure.Figure at 0x15f00d812e8>"
      ]
     },
     "metadata": {},
     "output_type": "display_data"
    }
   ],
   "source": [
    "estate_df_final['log_price'] = estate_df_final['price'].apply(lambda x: log(float(x)))\n",
    "estate_df_final.hist(column= 'log_price', bins = 50)"
   ]
  },
  {
   "cell_type": "markdown",
   "metadata": {},
   "source": [
    "Below is the linear model that we are going to make on the basis of number of bedroom, bathrooms, parking space and property type. After this when we have checked the value of skew is 0.083 and kurtosis 2.974 note it down. After checking skew and kurtosis value we have seen that this is much better than the previous transformations. So, we can conclude that this model is better than the above models."
   ]
  },
  {
   "cell_type": "code",
   "execution_count": 37,
   "metadata": {
    "scrolled": false
   },
   "outputs": [
    {
     "data": {
      "text/html": [
       "<table class=\"simpletable\">\n",
       "<caption>OLS Regression Results</caption>\n",
       "<tr>\n",
       "  <th>Dep. Variable:</th>        <td>log_price</td>    <th>  R-squared:         </th> <td>   0.064</td>\n",
       "</tr>\n",
       "<tr>\n",
       "  <th>Model:</th>                   <td>OLS</td>       <th>  Adj. R-squared:    </th> <td>   0.062</td>\n",
       "</tr>\n",
       "<tr>\n",
       "  <th>Method:</th>             <td>Least Squares</td>  <th>  F-statistic:       </th> <td>   44.52</td>\n",
       "</tr>\n",
       "<tr>\n",
       "  <th>Date:</th>             <td>Fri, 26 Oct 2018</td> <th>  Prob (F-statistic):</th> <td>7.93e-28</td>\n",
       "</tr>\n",
       "<tr>\n",
       "  <th>Time:</th>                 <td>23:51:29</td>     <th>  Log-Likelihood:    </th> <td> -1600.5</td>\n",
       "</tr>\n",
       "<tr>\n",
       "  <th>No. Observations:</th>      <td>  1965</td>      <th>  AIC:               </th> <td>   3209.</td>\n",
       "</tr>\n",
       "<tr>\n",
       "  <th>Df Residuals:</th>          <td>  1961</td>      <th>  BIC:               </th> <td>   3231.</td>\n",
       "</tr>\n",
       "<tr>\n",
       "  <th>Df Model:</th>              <td>     3</td>      <th>                     </th>     <td> </td>   \n",
       "</tr>\n",
       "<tr>\n",
       "  <th>Covariance Type:</th>      <td>nonrobust</td>    <th>                     </th>     <td> </td>   \n",
       "</tr>\n",
       "</table>\n",
       "<table class=\"simpletable\">\n",
       "<tr>\n",
       "        <td></td>           <th>coef</th>     <th>std err</th>      <th>t</th>      <th>P>|t|</th>  <th>[0.025</th>    <th>0.975]</th>  \n",
       "</tr>\n",
       "<tr>\n",
       "  <th>Intercept</th>     <td>   15.3706</td> <td>    0.053</td> <td>  287.825</td> <td> 0.000</td> <td>   15.266</td> <td>   15.475</td>\n",
       "</tr>\n",
       "<tr>\n",
       "  <th>bedrooms</th>      <td>    0.0762</td> <td>    0.020</td> <td>    3.884</td> <td> 0.000</td> <td>    0.038</td> <td>    0.115</td>\n",
       "</tr>\n",
       "<tr>\n",
       "  <th>bathrooms</th>     <td>    0.1598</td> <td>    0.025</td> <td>    6.469</td> <td> 0.000</td> <td>    0.111</td> <td>    0.208</td>\n",
       "</tr>\n",
       "<tr>\n",
       "  <th>parking_space</th> <td>    0.0035</td> <td>    0.017</td> <td>    0.202</td> <td> 0.840</td> <td>   -0.030</td> <td>    0.037</td>\n",
       "</tr>\n",
       "</table>\n",
       "<table class=\"simpletable\">\n",
       "<tr>\n",
       "  <th>Omnibus:</th>       <td> 2.291</td> <th>  Durbin-Watson:     </th> <td>   1.706</td>\n",
       "</tr>\n",
       "<tr>\n",
       "  <th>Prob(Omnibus):</th> <td> 0.318</td> <th>  Jarque-Bera (JB):  </th> <td>   2.312</td>\n",
       "</tr>\n",
       "<tr>\n",
       "  <th>Skew:</th>          <td> 0.083</td> <th>  Prob(JB):          </th> <td>   0.315</td>\n",
       "</tr>\n",
       "<tr>\n",
       "  <th>Kurtosis:</th>      <td> 2.974</td> <th>  Cond. No.          </th> <td>    18.7</td>\n",
       "</tr>\n",
       "</table>"
      ],
      "text/plain": [
       "<class 'statsmodels.iolib.summary.Summary'>\n",
       "\"\"\"\n",
       "                            OLS Regression Results                            \n",
       "==============================================================================\n",
       "Dep. Variable:              log_price   R-squared:                       0.064\n",
       "Model:                            OLS   Adj. R-squared:                  0.062\n",
       "Method:                 Least Squares   F-statistic:                     44.52\n",
       "Date:                Fri, 26 Oct 2018   Prob (F-statistic):           7.93e-28\n",
       "Time:                        23:51:29   Log-Likelihood:                -1600.5\n",
       "No. Observations:                1965   AIC:                             3209.\n",
       "Df Residuals:                    1961   BIC:                             3231.\n",
       "Df Model:                           3                                         \n",
       "Covariance Type:            nonrobust                                         \n",
       "=================================================================================\n",
       "                    coef    std err          t      P>|t|      [0.025      0.975]\n",
       "---------------------------------------------------------------------------------\n",
       "Intercept        15.3706      0.053    287.825      0.000      15.266      15.475\n",
       "bedrooms          0.0762      0.020      3.884      0.000       0.038       0.115\n",
       "bathrooms         0.1598      0.025      6.469      0.000       0.111       0.208\n",
       "parking_space     0.0035      0.017      0.202      0.840      -0.030       0.037\n",
       "==============================================================================\n",
       "Omnibus:                        2.291   Durbin-Watson:                   1.706\n",
       "Prob(Omnibus):                  0.318   Jarque-Bera (JB):                2.312\n",
       "Skew:                           0.083   Prob(JB):                        0.315\n",
       "Kurtosis:                       2.974   Cond. No.                         18.7\n",
       "==============================================================================\n",
       "\n",
       "Warnings:\n",
       "[1] Standard Errors assume that the covariance matrix of the errors is correctly specified.\n",
       "\"\"\""
      ]
     },
     "execution_count": 37,
     "metadata": {},
     "output_type": "execute_result"
    }
   ],
   "source": [
    "model = smf.ols(formula='log_price ~ bedrooms + bathrooms + parking_space + property_type', data=estate_df_final)\n",
    "estate_model_log = model.fit()\n",
    "estate_model_log.summary()"
   ]
  },
  {
   "cell_type": "markdown",
   "metadata": {},
   "source": [
    "## Squared price"
   ]
  },
  {
   "cell_type": "markdown",
   "metadata": {},
   "source": [
    "* In below section we are going to see the histogram of square value of price for bins 50 and check where is data skewed. \n",
    "* In this we can see that data is right skewed now fill check and fit in linear model."
   ]
  },
  {
   "cell_type": "code",
   "execution_count": 38,
   "metadata": {
    "scrolled": true
   },
   "outputs": [
    {
     "data": {
      "text/plain": [
       "array([[<matplotlib.axes._subplots.AxesSubplot object at 0x0000015F00EAE710>]],\n",
       "      dtype=object)"
      ]
     },
     "execution_count": 38,
     "metadata": {},
     "output_type": "execute_result"
    },
    {
     "data": {
      "image/png": "[encoded data removed]",
      "text/plain": [
       "<matplotlib.figure.Figure at 0x15f00de6ac8>"
      ]
     },
     "metadata": {},
     "output_type": "display_data"
    }
   ],
   "source": [
    "estate_df_final[\"square_price\"] = estate_df_final['price'].apply(lambda x: pow(float(x), 2))\n",
    "estate_df_final.hist(column= \"square_price\", bins = 50)"
   ]
  },
  {
   "cell_type": "markdown",
   "metadata": {},
   "source": [
    "* Below is the linear model that we are going to make on the basis of number of bedroom, bathrooms, parking space and property type. After this when we have checked the value of skew is 4.149 and kurtosis 27.347 note it down. After checking skew and kurtosis value we have seen that this is not better and values are very high. So, we can say that this model is very bad and hence can not be used. "
   ]
  },
  {
   "cell_type": "code",
   "execution_count": 39,
   "metadata": {},
   "outputs": [
    {
     "data": {
      "text/html": [
       "<table class=\"simpletable\">\n",
       "<caption>OLS Regression Results</caption>\n",
       "<tr>\n",
       "  <th>Dep. Variable:</th>      <td>square_price</td>   <th>  R-squared:         </th> <td>   0.068</td> \n",
       "</tr>\n",
       "<tr>\n",
       "  <th>Model:</th>                   <td>OLS</td>       <th>  Adj. R-squared:    </th> <td>   0.067</td> \n",
       "</tr>\n",
       "<tr>\n",
       "  <th>Method:</th>             <td>Least Squares</td>  <th>  F-statistic:       </th> <td>   47.82</td> \n",
       "</tr>\n",
       "<tr>\n",
       "  <th>Date:</th>             <td>Fri, 26 Oct 2018</td> <th>  Prob (F-statistic):</th> <td>7.99e-30</td> \n",
       "</tr>\n",
       "<tr>\n",
       "  <th>Time:</th>                 <td>23:51:30</td>     <th>  Log-Likelihood:    </th> <td> -67361.</td> \n",
       "</tr>\n",
       "<tr>\n",
       "  <th>No. Observations:</th>      <td>  1965</td>      <th>  AIC:               </th> <td>1.347e+05</td>\n",
       "</tr>\n",
       "<tr>\n",
       "  <th>Df Residuals:</th>          <td>  1961</td>      <th>  BIC:               </th> <td>1.348e+05</td>\n",
       "</tr>\n",
       "<tr>\n",
       "  <th>Df Model:</th>              <td>     3</td>      <th>                     </th>     <td> </td>    \n",
       "</tr>\n",
       "<tr>\n",
       "  <th>Covariance Type:</th>      <td>nonrobust</td>    <th>                     </th>     <td> </td>    \n",
       "</tr>\n",
       "</table>\n",
       "<table class=\"simpletable\">\n",
       "<tr>\n",
       "        <td></td>           <th>coef</th>     <th>std err</th>      <th>t</th>      <th>P>|t|</th>  <th>[0.025</th>    <th>0.975]</th>  \n",
       "</tr>\n",
       "<tr>\n",
       "  <th>Intercept</th>     <td>-5.635e+13</td> <td> 1.83e+13</td> <td>   -3.085</td> <td> 0.002</td> <td>-9.22e+13</td> <td>-2.05e+13</td>\n",
       "</tr>\n",
       "<tr>\n",
       "  <th>bedrooms</th>      <td> 2.776e+13</td> <td> 6.71e+12</td> <td>    4.138</td> <td> 0.000</td> <td> 1.46e+13</td> <td> 4.09e+13</td>\n",
       "</tr>\n",
       "<tr>\n",
       "  <th>bathrooms</th>     <td> 5.701e+13</td> <td> 8.45e+12</td> <td>    6.745</td> <td> 0.000</td> <td> 4.04e+13</td> <td> 7.36e+13</td>\n",
       "</tr>\n",
       "<tr>\n",
       "  <th>parking_space</th> <td>-1.426e+12</td> <td> 5.85e+12</td> <td>   -0.244</td> <td> 0.807</td> <td>-1.29e+13</td> <td>    1e+13</td>\n",
       "</tr>\n",
       "</table>\n",
       "<table class=\"simpletable\">\n",
       "<tr>\n",
       "  <th>Omnibus:</th>       <td>1735.244</td> <th>  Durbin-Watson:     </th> <td>   1.763</td> \n",
       "</tr>\n",
       "<tr>\n",
       "  <th>Prob(Omnibus):</th>  <td> 0.000</td>  <th>  Jarque-Bera (JB):  </th> <td>54172.674</td>\n",
       "</tr>\n",
       "<tr>\n",
       "  <th>Skew:</th>           <td> 4.149</td>  <th>  Prob(JB):          </th> <td>    0.00</td> \n",
       "</tr>\n",
       "<tr>\n",
       "  <th>Kurtosis:</th>       <td>27.347</td>  <th>  Cond. No.          </th> <td>    18.7</td> \n",
       "</tr>\n",
       "</table>"
      ],
      "text/plain": [
       "<class 'statsmodels.iolib.summary.Summary'>\n",
       "\"\"\"\n",
       "                            OLS Regression Results                            \n",
       "==============================================================================\n",
       "Dep. Variable:           square_price   R-squared:                       0.068\n",
       "Model:                            OLS   Adj. R-squared:                  0.067\n",
       "Method:                 Least Squares   F-statistic:                     47.82\n",
       "Date:                Fri, 26 Oct 2018   Prob (F-statistic):           7.99e-30\n",
       "Time:                        23:51:30   Log-Likelihood:                -67361.\n",
       "No. Observations:                1965   AIC:                         1.347e+05\n",
       "Df Residuals:                    1961   BIC:                         1.348e+05\n",
       "Df Model:                           3                                         \n",
       "Covariance Type:            nonrobust                                         \n",
       "=================================================================================\n",
       "                    coef    std err          t      P>|t|      [0.025      0.975]\n",
       "---------------------------------------------------------------------------------\n",
       "Intercept     -5.635e+13   1.83e+13     -3.085      0.002   -9.22e+13   -2.05e+13\n",
       "bedrooms       2.776e+13   6.71e+12      4.138      0.000    1.46e+13    4.09e+13\n",
       "bathrooms      5.701e+13   8.45e+12      6.745      0.000    4.04e+13    7.36e+13\n",
       "parking_space -1.426e+12   5.85e+12     -0.244      0.807   -1.29e+13       1e+13\n",
       "==============================================================================\n",
       "Omnibus:                     1735.244   Durbin-Watson:                   1.763\n",
       "Prob(Omnibus):                  0.000   Jarque-Bera (JB):            54172.674\n",
       "Skew:                           4.149   Prob(JB):                         0.00\n",
       "Kurtosis:                      27.347   Cond. No.                         18.7\n",
       "==============================================================================\n",
       "\n",
       "Warnings:\n",
       "[1] Standard Errors assume that the covariance matrix of the errors is correctly specified.\n",
       "\"\"\""
      ]
     },
     "execution_count": 39,
     "metadata": {},
     "output_type": "execute_result"
    }
   ],
   "source": [
    "model = smf.ols(formula='square_price ~ bedrooms + bathrooms + parking_space + property_type', data=estate_df_final)\n",
    "estate_model_square = model.fit()\n",
    "estate_model_square.summary()"
   ]
  },
  {
   "cell_type": "markdown",
   "metadata": {},
   "source": [
    "## Square root of the price attribute"
   ]
  },
  {
   "cell_type": "markdown",
   "metadata": {},
   "source": [
    "* In below section we are going to see the histogram of sqaure root of price for bins 50 and check where is data skewed.\n",
    "* In this we can see that data is little right skewed now fill check and fit in linear model."
   ]
  },
  {
   "cell_type": "code",
   "execution_count": 40,
   "metadata": {},
   "outputs": [
    {
     "data": {
      "text/plain": [
       "array([[<matplotlib.axes._subplots.AxesSubplot object at 0x0000015F00FB3588>]],\n",
       "      dtype=object)"
      ]
     },
     "execution_count": 40,
     "metadata": {},
     "output_type": "execute_result"
    },
    {
     "data": {
      "image/png": "[encoded data removed]",
      "text/plain": [
       "<matplotlib.figure.Figure at 0x15f00f77cc0>"
      ]
     },
     "metadata": {},
     "output_type": "display_data"
    }
   ],
   "source": [
    "estate_df_final[\"sqrt_price\"] = estate_df_final['price'].apply(lambda x: pow(float(x), 0.5))\n",
    "estate_df_final.hist(column= \"sqrt_price\", bins = 50)"
   ]
  },
  {
   "cell_type": "markdown",
   "metadata": {},
   "source": [
    "* Below is the linear model that we are going to make on the basis of number of bedroom, bathrooms, parking space and property type. After this when we have checked the value of skew is 0.889 and kurtosis 4.142 note it down. After checking skew and kurtosis value we have seen that this is not better and values are higher than the log model. So, we can say that this model is not good and hence can not be used."
   ]
  },
  {
   "cell_type": "code",
   "execution_count": 41,
   "metadata": {},
   "outputs": [
    {
     "data": {
      "text/html": [
       "<table class=\"simpletable\">\n",
       "<caption>OLS Regression Results</caption>\n",
       "<tr>\n",
       "  <th>Dep. Variable:</th>       <td>sqrt_price</td>    <th>  R-squared:         </th> <td>   0.074</td> \n",
       "</tr>\n",
       "<tr>\n",
       "  <th>Model:</th>                   <td>OLS</td>       <th>  Adj. R-squared:    </th> <td>   0.072</td> \n",
       "</tr>\n",
       "<tr>\n",
       "  <th>Method:</th>             <td>Least Squares</td>  <th>  F-statistic:       </th> <td>   52.11</td> \n",
       "</tr>\n",
       "<tr>\n",
       "  <th>Date:</th>             <td>Fri, 26 Oct 2018</td> <th>  Prob (F-statistic):</th> <td>2.10e-32</td> \n",
       "</tr>\n",
       "<tr>\n",
       "  <th>Time:</th>                 <td>23:51:30</td>     <th>  Log-Likelihood:    </th> <td> -16001.</td> \n",
       "</tr>\n",
       "<tr>\n",
       "  <th>No. Observations:</th>      <td>  1965</td>      <th>  AIC:               </th> <td>3.201e+04</td>\n",
       "</tr>\n",
       "<tr>\n",
       "  <th>Df Residuals:</th>          <td>  1961</td>      <th>  BIC:               </th> <td>3.203e+04</td>\n",
       "</tr>\n",
       "<tr>\n",
       "  <th>Df Model:</th>              <td>     3</td>      <th>                     </th>     <td> </td>    \n",
       "</tr>\n",
       "<tr>\n",
       "  <th>Covariance Type:</th>      <td>nonrobust</td>    <th>                     </th>     <td> </td>    \n",
       "</tr>\n",
       "</table>\n",
       "<table class=\"simpletable\">\n",
       "<tr>\n",
       "        <td></td>           <th>coef</th>     <th>std err</th>      <th>t</th>      <th>P>|t|</th>  <th>[0.025</th>    <th>0.975]</th>  \n",
       "</tr>\n",
       "<tr>\n",
       "  <th>Intercept</th>     <td> 2087.9196</td> <td>   81.328</td> <td>   25.673</td> <td> 0.000</td> <td> 1928.422</td> <td> 2247.417</td>\n",
       "</tr>\n",
       "<tr>\n",
       "  <th>bedrooms</th>      <td>  127.9615</td> <td>   29.874</td> <td>    4.283</td> <td> 0.000</td> <td>   69.374</td> <td>  186.549</td>\n",
       "</tr>\n",
       "<tr>\n",
       "  <th>bathrooms</th>     <td>  263.7809</td> <td>   37.627</td> <td>    7.010</td> <td> 0.000</td> <td>  189.988</td> <td>  337.573</td>\n",
       "</tr>\n",
       "<tr>\n",
       "  <th>parking_space</th> <td>   -1.1728</td> <td>   26.034</td> <td>   -0.045</td> <td> 0.964</td> <td>  -52.231</td> <td>   49.885</td>\n",
       "</tr>\n",
       "</table>\n",
       "<table class=\"simpletable\">\n",
       "<tr>\n",
       "  <th>Omnibus:</th>       <td>243.346</td> <th>  Durbin-Watson:     </th> <td>   1.702</td>\n",
       "</tr>\n",
       "<tr>\n",
       "  <th>Prob(Omnibus):</th> <td> 0.000</td>  <th>  Jarque-Bera (JB):  </th> <td> 365.339</td>\n",
       "</tr>\n",
       "<tr>\n",
       "  <th>Skew:</th>          <td> 0.889</td>  <th>  Prob(JB):          </th> <td>4.65e-80</td>\n",
       "</tr>\n",
       "<tr>\n",
       "  <th>Kurtosis:</th>      <td> 4.142</td>  <th>  Cond. No.          </th> <td>    18.7</td>\n",
       "</tr>\n",
       "</table>"
      ],
      "text/plain": [
       "<class 'statsmodels.iolib.summary.Summary'>\n",
       "\"\"\"\n",
       "                            OLS Regression Results                            \n",
       "==============================================================================\n",
       "Dep. Variable:             sqrt_price   R-squared:                       0.074\n",
       "Model:                            OLS   Adj. R-squared:                  0.072\n",
       "Method:                 Least Squares   F-statistic:                     52.11\n",
       "Date:                Fri, 26 Oct 2018   Prob (F-statistic):           2.10e-32\n",
       "Time:                        23:51:30   Log-Likelihood:                -16001.\n",
       "No. Observations:                1965   AIC:                         3.201e+04\n",
       "Df Residuals:                    1961   BIC:                         3.203e+04\n",
       "Df Model:                           3                                         \n",
       "Covariance Type:            nonrobust                                         \n",
       "=================================================================================\n",
       "                    coef    std err          t      P>|t|      [0.025      0.975]\n",
       "---------------------------------------------------------------------------------\n",
       "Intercept      2087.9196     81.328     25.673      0.000    1928.422    2247.417\n",
       "bedrooms        127.9615     29.874      4.283      0.000      69.374     186.549\n",
       "bathrooms       263.7809     37.627      7.010      0.000     189.988     337.573\n",
       "parking_space    -1.1728     26.034     -0.045      0.964     -52.231      49.885\n",
       "==============================================================================\n",
       "Omnibus:                      243.346   Durbin-Watson:                   1.702\n",
       "Prob(Omnibus):                  0.000   Jarque-Bera (JB):              365.339\n",
       "Skew:                           0.889   Prob(JB):                     4.65e-80\n",
       "Kurtosis:                       4.142   Cond. No.                         18.7\n",
       "==============================================================================\n",
       "\n",
       "Warnings:\n",
       "[1] Standard Errors assume that the covariance matrix of the errors is correctly specified.\n",
       "\"\"\""
      ]
     },
     "execution_count": 41,
     "metadata": {},
     "output_type": "execute_result"
    }
   ],
   "source": [
    "model = smf.ols(formula='sqrt_price ~ bedrooms + bathrooms + parking_space + property_type', data=estate_df_final)\n",
    "estate_model_square_root = model.fit()\n",
    "estate_model_square_root.summary()"
   ]
  },
  {
   "cell_type": "markdown",
   "metadata": {},
   "source": [
    "## Conclusion"
   ]
  },
  {
   "cell_type": "markdown",
   "metadata": {},
   "source": [
    "From the above models, we can conclude that the log model is a good transformation to reshape the data to reduce skewness and acheive better prediction model.\n",
    "Better visualization of the residual plot can be seen from the below for both the models [1]:"
   ]
  },
  {
   "cell_type": "markdown",
   "metadata": {},
   "source": [
    "* Log Residual plot"
   ]
  },
  {
   "cell_type": "code",
   "execution_count": 42,
   "metadata": {},
   "outputs": [
    {
     "data": {
      "image/png": "[encoded data removed]",
      "text/plain": [
       "<matplotlib.figure.Figure at 0x15f00f93278>"
      ]
     },
     "metadata": {},
     "output_type": "display_data"
    }
   ],
   "source": [
    "# this code has been reffered from the https://medium.com/@emredjan/emulating-r-regression-plots-in-python-43741952c034\n",
    "\n",
    "y_mod=estate_model_log.fittedvalues\n",
    "res_mod=estate_model_log.resid \n",
    "res_norm=estate_model_log.get_influence().resid_studentized_internal\n",
    "res_sqr=np.sqrt(np.abs(res_norm))\n",
    "res_abs=np.abs(res_mod)\n",
    "inf_mod=estate_model_log.get_influence().hat_matrix_diag\n",
    "QQ = ProbPlot(res_norm)\n",
    "ploting_qq=QQ.qqplot(line='45',alpha=0.5,color='#7cb04b',lw=1)"
   ]
  },
  {
   "cell_type": "markdown",
   "metadata": {},
   "source": [
    "* Original price model"
   ]
  },
  {
   "cell_type": "code",
   "execution_count": 43,
   "metadata": {
    "scrolled": true
   },
   "outputs": [
    {
     "data": {
      "image/png": "[encoded data removed]",
      "text/plain": [
       "<matplotlib.figure.Figure at 0x15f010db240>"
      ]
     },
     "metadata": {},
     "output_type": "display_data"
    }
   ],
   "source": [
    "# this code has been reffered from the https://medium.com/@emredjan/emulating-r-regression-plots-in-python-43741952c034\n",
    "\n",
    "y_mod=estate_model.fittedvalues\n",
    "res_mod=estate_model.resid \n",
    "res_norm=estate_model.get_influence().resid_studentized_internal\n",
    "res_sqr=np.sqrt(np.abs(res_norm))\n",
    "res_abs=np.abs(res_mod)\n",
    "inf_mod=estate_model.get_influence().hat_matrix_diag\n",
    "qq=ProbPlot(res_norm)\n",
    "ploting_qq=qq.qqplot(line='45',alpha=0.5,color='#7cb04b',lw=1)"
   ]
  },
  {
   "cell_type": "markdown",
   "metadata": {},
   "source": [
    "## References"
   ]
  },
  {
   "cell_type": "markdown",
   "metadata": {},
   "source": [
    "*  1 https://medium.com/@emredjan/emulating-r-regression-plots-in-python-43741952c034\n",
    "*  2 https://gis.stackexchange.com/questions/250172/finding-out-if-coordinate-is-within-shapefile-shp-using-pyshp\n",
    "*  3 https://data.library.virginia.edu/diagnostic-plots/"
   ]
  }
 ],
 "metadata": {
  "kernelspec": {
   "display_name": "Python 3",
   "language": "python",
   "name": "python3"
  },
  "language_info": {
   "codemirror_mode": {
    "name": "ipython",
    "version": 3
   },
   "file_extension": ".py",
   "mimetype": "text/x-python",
   "name": "python",
   "nbconvert_exporter": "python",
   "pygments_lexer": "ipython3",
   "version": "3.6.4"
  }
 },
 "nbformat": 4,
 "nbformat_minor": 2
}
